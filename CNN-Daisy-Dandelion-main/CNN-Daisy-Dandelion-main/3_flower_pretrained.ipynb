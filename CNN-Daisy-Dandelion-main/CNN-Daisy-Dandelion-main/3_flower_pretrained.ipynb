{
  "nbformat": 4,
  "nbformat_minor": 0,
  "metadata": {
    "kernelspec": {
      "display_name": "Python 3",
      "language": "python",
      "name": "python3"
    },
    "language_info": {
      "codemirror_mode": {
        "name": "ipython",
        "version": 3
      },
      "file_extension": ".py",
      "mimetype": "text/x-python",
      "name": "python",
      "nbconvert_exporter": "python",
      "pygments_lexer": "ipython3",
      "version": "3.7.6"
    },
    "colab": {
      "name": "5-aug-pretrained.ipynb",
      "provenance": [],
      "collapsed_sections": [],
      "include_colab_link": true
    },
    "accelerator": "GPU"
  },
  "cells": [
    {
      "cell_type": "markdown",
      "metadata": {
        "id": "view-in-github",
        "colab_type": "text"
      },
      "source": [
        "<a href=\"https://colab.research.google.com/github/JSJeong-me/CNN-Daisy-Dandelion/blob/main/3_flower_pretrained.ipynb\" target=\"_parent\"><img src=\"https://colab.research.google.com/assets/colab-badge.svg\" alt=\"Open In Colab\"/></a>"
      ]
    },
    {
      "cell_type": "code",
      "metadata": {
        "colab": {
          "base_uri": "https://localhost:8080/"
        },
        "id": "22mg_PXnCKsU",
        "outputId": "d0f8a322-be13-4dc4-d548-88dd4fe444e3"
      },
      "source": [
        "from google.colab import drive\n",
        "drive.mount('/content/drive')"
      ],
      "execution_count": 1,
      "outputs": [
        {
          "output_type": "stream",
          "text": [
            "Mounted at /content/drive\n"
          ],
          "name": "stdout"
        }
      ]
    },
    {
      "cell_type": "code",
      "metadata": {
        "id": "6giq8ls1A3jN"
      },
      "source": [
        "%matplotlib inline"
      ],
      "execution_count": 2,
      "outputs": []
    },
    {
      "cell_type": "code",
      "metadata": {
        "id": "B9GBtXmwA47m",
        "colab": {
          "base_uri": "https://localhost:8080/"
        },
        "outputId": "cabdff20-7769-4744-be89-1f6ab843bd92"
      },
      "source": [
        "!ls -l"
      ],
      "execution_count": 3,
      "outputs": [
        {
          "output_type": "stream",
          "text": [
            "total 8\n",
            "drwx------ 5 root root 4096 Jan 25 07:29 drive\n",
            "drwxr-xr-x 1 root root 4096 Jan 20 17:27 sample_data\n"
          ],
          "name": "stdout"
        }
      ]
    },
    {
      "cell_type": "code",
      "metadata": {
        "id": "FWj06i8uA6OO"
      },
      "source": [
        "!cp ./drive/MyDrive/flower.zip ."
      ],
      "execution_count": 5,
      "outputs": []
    },
    {
      "cell_type": "code",
      "metadata": {
        "id": "AEJfrotXA58E"
      },
      "source": [
        "!unzip flower.zip\r\n"
      ],
      "execution_count": null,
      "outputs": []
    },
    {
      "cell_type": "code",
      "metadata": {
        "id": "O5M05p_pA5rd"
      },
      "source": [
        ""
      ],
      "execution_count": null,
      "outputs": []
    },
    {
      "cell_type": "code",
      "metadata": {
        "id": "KPy5I5SBA3jW"
      },
      "source": [
        "import glob\n",
        "import numpy as np\n",
        "import matplotlib.pyplot as plt\n",
        "from tensorflow.keras.preprocessing.image import ImageDataGenerator, load_img, img_to_array, array_to_img"
      ],
      "execution_count": 7,
      "outputs": []
    },
    {
      "cell_type": "code",
      "metadata": {
        "id": "eZImnfGOA3jX",
        "colab": {
          "base_uri": "https://localhost:8080/"
        },
        "outputId": "8c4b6700-2dd7-4510-d7ec-ade8958bc540"
      },
      "source": [
        "IMG_DIM = (150, 150)\n",
        "\n",
        "train_files = glob.glob('training_data/*')\n",
        "train_imgs = [img_to_array(load_img(img, target_size=IMG_DIM)) for img in train_files]\n",
        "train_imgs = np.array(train_imgs)\n",
        "train_labels = [fn.split('/')[1].split('.')[0].strip() for fn in train_files]\n",
        "\n",
        "validation_files = glob.glob('validation_data/*')\n",
        "validation_imgs = [img_to_array(load_img(img, target_size=IMG_DIM)) for img in validation_files]\n",
        "validation_imgs = np.array(validation_imgs)\n",
        "validation_labels = [fn.split('/')[1].split('.')[0].strip() for fn in validation_files]\n",
        "\n",
        "print('Train dataset shape:', train_imgs.shape, \n",
        "      '\\tValidation dataset shape:', validation_imgs.shape)"
      ],
      "execution_count": 8,
      "outputs": [
        {
          "output_type": "stream",
          "text": [
            "Train dataset shape: (1275, 150, 150, 3) \tValidation dataset shape: (364, 150, 150, 3)\n"
          ],
          "name": "stdout"
        }
      ]
    },
    {
      "cell_type": "code",
      "metadata": {
        "id": "OiDa5o60A3jX"
      },
      "source": [
        "train_imgs_scaled = train_imgs.astype('float32')\n",
        "validation_imgs_scaled = validation_imgs.astype('float32')\n",
        "train_imgs_scaled /= 255\n",
        "validation_imgs_scaled /= 255"
      ],
      "execution_count": 9,
      "outputs": []
    },
    {
      "cell_type": "code",
      "metadata": {
        "id": "COLKZn79A3jY",
        "colab": {
          "base_uri": "https://localhost:8080/"
        },
        "outputId": "42e8a452-b556-49bd-f62b-ffdd7172c2c0"
      },
      "source": [
        "batch_size = 50\n",
        "num_classes = 2\n",
        "epochs = 150\n",
        "input_shape = (150, 150, 3)\n",
        "\n",
        "from sklearn.preprocessing import LabelEncoder\n",
        "\n",
        "le = LabelEncoder()\n",
        "le.fit(train_labels)\n",
        "# encode wine type labels\n",
        "train_labels_enc = le.transform(train_labels)\n",
        "validation_labels_enc = le.transform(validation_labels)\n",
        "\n",
        "print(train_labels[0:5], train_labels_enc[0:5])"
      ],
      "execution_count": 10,
      "outputs": [
        {
          "output_type": "stream",
          "text": [
            "['daisy', 'dandelion', 'dandelion', 'daisy', 'dandelion'] [0 1 1 0 1]\n"
          ],
          "name": "stdout"
        }
      ]
    },
    {
      "cell_type": "code",
      "metadata": {
        "id": "Ieppy25xFE_N"
      },
      "source": [
        ""
      ],
      "execution_count": null,
      "outputs": []
    },
    {
      "cell_type": "code",
      "metadata": {
        "id": "j0wF41XlFEu9"
      },
      "source": [
        "train_datagen = ImageDataGenerator(rescale=1./255, zoom_range=0.3, rotation_range=50,  # rescale=1./255,\r\n",
        "                                   width_shift_range=0.2, height_shift_range=0.2, shear_range=0.2, \r\n",
        "                                   horizontal_flip=True, fill_mode='nearest')\r\n",
        "\r\n",
        "val_datagen = ImageDataGenerator(rescale=1./255) # rescale=1./255\r\n",
        "\r\n",
        "train_generator = train_datagen.flow(train_imgs, train_labels_enc, batch_size=30)\r\n",
        "val_generator = val_datagen.flow(validation_imgs, validation_labels_enc, batch_size=20)"
      ],
      "execution_count": 11,
      "outputs": []
    },
    {
      "cell_type": "code",
      "metadata": {
        "id": "wDDCzCWzFEDf"
      },
      "source": [
        ""
      ],
      "execution_count": null,
      "outputs": []
    },
    {
      "cell_type": "code",
      "metadata": {
        "id": "9fVVMivMA3jZ",
        "colab": {
          "base_uri": "https://localhost:8080/"
        },
        "outputId": "9c312817-e635-4b23-f25e-4eb9e5d12f3c"
      },
      "source": [
        "\n",
        "from tensorflow.keras.applications import vgg16\n",
        "from tensorflow.keras.models import Model\n",
        "import tensorflow.keras\n",
        "\n",
        "vgg = vgg16.VGG16(include_top=False, weights='imagenet',\n",
        "                                     input_shape=input_shape)\n",
        "\n",
        "output = vgg.layers[-1].output\n",
        "output = tensorflow.keras.layers.Flatten()(output)\n",
        "\n",
        "vgg_model = Model(vgg.input, output)\n",
        "vgg_model.trainable = False\n",
        "\n",
        "for layer in vgg_model.layers:\n",
        "    layer.trainable = False\n",
        "\n",
        "vgg_model.summary()\n"
      ],
      "execution_count": 12,
      "outputs": [
        {
          "output_type": "stream",
          "text": [
            "Downloading data from https://storage.googleapis.com/tensorflow/keras-applications/vgg16/vgg16_weights_tf_dim_ordering_tf_kernels_notop.h5\n",
            "58892288/58889256 [==============================] - 1s 0us/step\n",
            "Model: \"model\"\n",
            "_________________________________________________________________\n",
            "Layer (type)                 Output Shape              Param #   \n",
            "=================================================================\n",
            "input_1 (InputLayer)         [(None, 150, 150, 3)]     0         \n",
            "_________________________________________________________________\n",
            "block1_conv1 (Conv2D)        (None, 150, 150, 64)      1792      \n",
            "_________________________________________________________________\n",
            "block1_conv2 (Conv2D)        (None, 150, 150, 64)      36928     \n",
            "_________________________________________________________________\n",
            "block1_pool (MaxPooling2D)   (None, 75, 75, 64)        0         \n",
            "_________________________________________________________________\n",
            "block2_conv1 (Conv2D)        (None, 75, 75, 128)       73856     \n",
            "_________________________________________________________________\n",
            "block2_conv2 (Conv2D)        (None, 75, 75, 128)       147584    \n",
            "_________________________________________________________________\n",
            "block2_pool (MaxPooling2D)   (None, 37, 37, 128)       0         \n",
            "_________________________________________________________________\n",
            "block3_conv1 (Conv2D)        (None, 37, 37, 256)       295168    \n",
            "_________________________________________________________________\n",
            "block3_conv2 (Conv2D)        (None, 37, 37, 256)       590080    \n",
            "_________________________________________________________________\n",
            "block3_conv3 (Conv2D)        (None, 37, 37, 256)       590080    \n",
            "_________________________________________________________________\n",
            "block3_pool (MaxPooling2D)   (None, 18, 18, 256)       0         \n",
            "_________________________________________________________________\n",
            "block4_conv1 (Conv2D)        (None, 18, 18, 512)       1180160   \n",
            "_________________________________________________________________\n",
            "block4_conv2 (Conv2D)        (None, 18, 18, 512)       2359808   \n",
            "_________________________________________________________________\n",
            "block4_conv3 (Conv2D)        (None, 18, 18, 512)       2359808   \n",
            "_________________________________________________________________\n",
            "block4_pool (MaxPooling2D)   (None, 9, 9, 512)         0         \n",
            "_________________________________________________________________\n",
            "block5_conv1 (Conv2D)        (None, 9, 9, 512)         2359808   \n",
            "_________________________________________________________________\n",
            "block5_conv2 (Conv2D)        (None, 9, 9, 512)         2359808   \n",
            "_________________________________________________________________\n",
            "block5_conv3 (Conv2D)        (None, 9, 9, 512)         2359808   \n",
            "_________________________________________________________________\n",
            "block5_pool (MaxPooling2D)   (None, 4, 4, 512)         0         \n",
            "_________________________________________________________________\n",
            "flatten (Flatten)            (None, 8192)              0         \n",
            "=================================================================\n",
            "Total params: 14,714,688\n",
            "Trainable params: 0\n",
            "Non-trainable params: 14,714,688\n",
            "_________________________________________________________________\n"
          ],
          "name": "stdout"
        }
      ]
    },
    {
      "cell_type": "code",
      "metadata": {
        "id": "c6M8SjAvDA8O"
      },
      "source": [
        "vgg_model.trainable = True\r\n",
        "\r\n",
        "set_trainable = False\r\n",
        "for layer in vgg_model.layers:\r\n",
        "    if layer.name in ['block5_conv1', 'block4_conv1']:\r\n",
        "        set_trainable = True\r\n",
        "    if set_trainable:\r\n",
        "        layer.trainable = True\r\n",
        "    else:\r\n",
        "        layer.trainable = False\r\n",
        "        \r\n",
        "print(\"Trainable layers:\", vgg_model.trainable_weights)"
      ],
      "execution_count": null,
      "outputs": []
    },
    {
      "cell_type": "code",
      "metadata": {
        "id": "T9SDjC3EA3jZ"
      },
      "source": [
        "import pandas as pd\n",
        "pd.set_option('max_colwidth', -1)\n",
        "\n",
        "layers = [(layer, layer.name, layer.trainable) for layer in vgg_model.layers]\n",
        "pd.DataFrame(layers, columns=['Layer Type', 'Layer Name', 'Layer Trainable'])"
      ],
      "execution_count": null,
      "outputs": []
    },
    {
      "cell_type": "code",
      "metadata": {
        "id": "hJxdtonlDK1Y"
      },
      "source": [
        ""
      ],
      "execution_count": null,
      "outputs": []
    },
    {
      "cell_type": "code",
      "metadata": {
        "id": "OvJvrtrgA3ja"
      },
      "source": [
        "print(\"Trainable layers:\", vgg_model.trainable_weights)"
      ],
      "execution_count": null,
      "outputs": []
    },
    {
      "cell_type": "code",
      "metadata": {
        "id": "J_Zbyst4A3ja",
        "colab": {
          "base_uri": "https://localhost:8080/",
          "height": 305
        },
        "outputId": "153f2409-3959-4774-a1b2-e1cb093fd035"
      },
      "source": [
        "bottleneck_feature_example = vgg.predict(train_imgs_scaled[0:1])\n",
        "print(bottleneck_feature_example.shape)\n",
        "plt.imshow(bottleneck_feature_example[0][:,:,0])"
      ],
      "execution_count": 16,
      "outputs": [
        {
          "output_type": "stream",
          "text": [
            "(1, 4, 4, 512)\n"
          ],
          "name": "stdout"
        },
        {
          "output_type": "execute_result",
          "data": {
            "text/plain": [
              "<matplotlib.image.AxesImage at 0x7f1ee5fd80b8>"
            ]
          },
          "metadata": {
            "tags": []
          },
          "execution_count": 16
        },
        {
          "output_type": "display_data",
          "data": {
            "image/png": "[encoded data removed]",
            "text/plain": [
              "<Figure size 432x288 with 1 Axes>"
            ]
          },
          "metadata": {
            "tags": [],
            "needs_background": "light"
          }
        }
      ]
    },
    {
      "cell_type": "code",
      "metadata": {
        "id": "_8LY2OOaA3jb"
      },
      "source": [
        "def get_bottleneck_features(model, input_imgs):\n",
        "    \n",
        "    features = model.predict(input_imgs, verbose=0)\n",
        "    return features"
      ],
      "execution_count": 17,
      "outputs": []
    },
    {
      "cell_type": "code",
      "metadata": {
        "id": "8sekjWocA3jb",
        "colab": {
          "base_uri": "https://localhost:8080/"
        },
        "outputId": "e662ec4a-15f0-4dab-c913-969ad9e5dbdb"
      },
      "source": [
        "train_features_vgg = get_bottleneck_features(vgg_model, train_imgs_scaled)\n",
        "validation_features_vgg = get_bottleneck_features(vgg_model, validation_imgs_scaled)\n",
        "\n",
        "print('Train Bottleneck Features:', train_features_vgg.shape, \n",
        "      '\\tValidation Bottleneck Features:', validation_features_vgg.shape)"
      ],
      "execution_count": 18,
      "outputs": [
        {
          "output_type": "stream",
          "text": [
            "Train Bottleneck Features: (1275, 8192) \tValidation Bottleneck Features: (364, 8192)\n"
          ],
          "name": "stdout"
        }
      ]
    },
    {
      "cell_type": "code",
      "metadata": {
        "id": "unerLhrzF2HL"
      },
      "source": [
        ""
      ],
      "execution_count": null,
      "outputs": []
    },
    {
      "cell_type": "code",
      "metadata": {
        "id": "qyFijnDhGBjn",
        "colab": {
          "base_uri": "https://localhost:8080/"
        },
        "outputId": "3a603799-3718-4211-f812-afda2f05f344"
      },
      "source": [
        "from tensorflow.keras.layers import Conv2D, MaxPooling2D, Flatten, Dense, Dropout, InputLayer\r\n",
        "from tensorflow.keras.models import Sequential\r\n",
        "from tensorflow.keras import optimizers\r\n",
        "\r\n",
        "model = Sequential()\r\n",
        "model.add(vgg_model)\r\n",
        "model.add(Dense(512, activation='relu', input_dim=input_shape))\r\n",
        "model.add(Dropout(0.3))\r\n",
        "model.add(Dense(64, activation='relu'))\r\n",
        "model.add(Dropout(0.3))\r\n",
        "model.add(Dense(1, activation='sigmoid'))\r\n",
        "\r\n",
        "model.compile(loss='binary_crossentropy',\r\n",
        "              optimizer=optimizers.RMSprop(lr=2e-5),\r\n",
        "              metrics=['accuracy'])\r\n",
        "\r\n",
        "model.summary()"
      ],
      "execution_count": 19,
      "outputs": [
        {
          "output_type": "stream",
          "text": [
            "Model: \"sequential\"\n",
            "_________________________________________________________________\n",
            "Layer (type)                 Output Shape              Param #   \n",
            "=================================================================\n",
            "model (Functional)           (None, 8192)              14714688  \n",
            "_________________________________________________________________\n",
            "dense (Dense)                (None, 512)               4194816   \n",
            "_________________________________________________________________\n",
            "dropout (Dropout)            (None, 512)               0         \n",
            "_________________________________________________________________\n",
            "dense_1 (Dense)              (None, 64)                32832     \n",
            "_________________________________________________________________\n",
            "dropout_1 (Dropout)          (None, 64)                0         \n",
            "_________________________________________________________________\n",
            "dense_2 (Dense)              (None, 1)                 65        \n",
            "=================================================================\n",
            "Total params: 18,942,401\n",
            "Trainable params: 17,206,913\n",
            "Non-trainable params: 1,735,488\n",
            "_________________________________________________________________\n"
          ],
          "name": "stdout"
        }
      ]
    },
    {
      "cell_type": "code",
      "metadata": {
        "id": "oXhFf4HLA3jc",
        "colab": {
          "base_uri": "https://localhost:8080/"
        },
        "outputId": "6d4457c6-5409-447e-cbb1-a64899c54a9c"
      },
      "source": [
        "history = model.fit_generator(train_generator,  epochs=epochs,\r\n",
        "                              validation_data=val_generator,  verbose=1)"
      ],
      "execution_count": 20,
      "outputs": [
        {
          "output_type": "stream",
          "text": [
            "/usr/local/lib/python3.6/dist-packages/tensorflow/python/keras/engine/training.py:1844: UserWarning: `Model.fit_generator` is deprecated and will be removed in a future version. Please use `Model.fit`, which supports generators.\n",
            "  warnings.warn('`Model.fit_generator` is deprecated and '\n"
          ],
          "name": "stderr"
        },
        {
          "output_type": "stream",
          "text": [
            "Epoch 1/150\n",
            "43/43 [==============================] - 13s 243ms/step - loss: 0.5811 - accuracy: 0.6876 - val_loss: 0.2627 - val_accuracy: 0.8956\n",
            "Epoch 2/150\n",
            "43/43 [==============================] - 8s 196ms/step - loss: 0.3458 - accuracy: 0.8245 - val_loss: 0.2086 - val_accuracy: 0.9148\n",
            "Epoch 3/150\n",
            "43/43 [==============================] - 8s 197ms/step - loss: 0.2795 - accuracy: 0.8718 - val_loss: 0.2788 - val_accuracy: 0.9011\n",
            "Epoch 4/150\n",
            "43/43 [==============================] - 8s 197ms/step - loss: 0.2389 - accuracy: 0.9067 - val_loss: 0.1790 - val_accuracy: 0.9121\n",
            "Epoch 5/150\n",
            "43/43 [==============================] - 9s 197ms/step - loss: 0.2230 - accuracy: 0.8933 - val_loss: 0.2458 - val_accuracy: 0.8984\n",
            "Epoch 6/150\n",
            "43/43 [==============================] - 9s 199ms/step - loss: 0.1648 - accuracy: 0.9307 - val_loss: 0.2133 - val_accuracy: 0.9038\n",
            "Epoch 7/150\n",
            "43/43 [==============================] - 9s 199ms/step - loss: 0.1697 - accuracy: 0.9175 - val_loss: 0.1425 - val_accuracy: 0.9368\n",
            "Epoch 8/150\n",
            "43/43 [==============================] - 9s 199ms/step - loss: 0.1384 - accuracy: 0.9305 - val_loss: 0.1997 - val_accuracy: 0.9313\n",
            "Epoch 9/150\n",
            "43/43 [==============================] - 9s 200ms/step - loss: 0.1496 - accuracy: 0.9358 - val_loss: 0.1634 - val_accuracy: 0.9286\n",
            "Epoch 10/150\n",
            "43/43 [==============================] - 9s 202ms/step - loss: 0.1425 - accuracy: 0.9346 - val_loss: 0.1530 - val_accuracy: 0.9341\n",
            "Epoch 11/150\n",
            "43/43 [==============================] - 9s 200ms/step - loss: 0.1297 - accuracy: 0.9536 - val_loss: 0.1312 - val_accuracy: 0.9478\n",
            "Epoch 12/150\n",
            "43/43 [==============================] - 9s 199ms/step - loss: 0.1197 - accuracy: 0.9509 - val_loss: 0.1478 - val_accuracy: 0.9451\n",
            "Epoch 13/150\n",
            "43/43 [==============================] - 9s 198ms/step - loss: 0.0696 - accuracy: 0.9719 - val_loss: 0.2069 - val_accuracy: 0.9231\n",
            "Epoch 14/150\n",
            "43/43 [==============================] - 9s 199ms/step - loss: 0.0957 - accuracy: 0.9576 - val_loss: 0.1760 - val_accuracy: 0.9396\n",
            "Epoch 15/150\n",
            "43/43 [==============================] - 8s 197ms/step - loss: 0.1105 - accuracy: 0.9487 - val_loss: 0.1763 - val_accuracy: 0.9451\n",
            "Epoch 16/150\n",
            "43/43 [==============================] - 9s 198ms/step - loss: 0.1347 - accuracy: 0.9549 - val_loss: 0.1929 - val_accuracy: 0.9313\n",
            "Epoch 17/150\n",
            "43/43 [==============================] - 9s 198ms/step - loss: 0.0908 - accuracy: 0.9516 - val_loss: 0.2935 - val_accuracy: 0.9148\n",
            "Epoch 18/150\n",
            "43/43 [==============================] - 9s 202ms/step - loss: 0.0573 - accuracy: 0.9793 - val_loss: 0.1611 - val_accuracy: 0.9533\n",
            "Epoch 19/150\n",
            "43/43 [==============================] - 9s 199ms/step - loss: 0.0714 - accuracy: 0.9727 - val_loss: 0.1739 - val_accuracy: 0.9451\n",
            "Epoch 20/150\n",
            "43/43 [==============================] - 9s 199ms/step - loss: 0.0705 - accuracy: 0.9805 - val_loss: 0.1720 - val_accuracy: 0.9533\n",
            "Epoch 21/150\n",
            "43/43 [==============================] - 9s 198ms/step - loss: 0.0509 - accuracy: 0.9788 - val_loss: 0.2331 - val_accuracy: 0.9341\n",
            "Epoch 22/150\n",
            "43/43 [==============================] - 9s 198ms/step - loss: 0.0745 - accuracy: 0.9699 - val_loss: 0.1713 - val_accuracy: 0.9451\n",
            "Epoch 23/150\n",
            "43/43 [==============================] - 9s 198ms/step - loss: 0.0498 - accuracy: 0.9859 - val_loss: 0.1791 - val_accuracy: 0.9505\n",
            "Epoch 24/150\n",
            "43/43 [==============================] - 9s 199ms/step - loss: 0.0576 - accuracy: 0.9754 - val_loss: 0.2538 - val_accuracy: 0.9258\n",
            "Epoch 25/150\n",
            "43/43 [==============================] - 9s 199ms/step - loss: 0.0712 - accuracy: 0.9816 - val_loss: 0.2091 - val_accuracy: 0.9423\n",
            "Epoch 26/150\n",
            "43/43 [==============================] - 9s 198ms/step - loss: 0.0467 - accuracy: 0.9855 - val_loss: 0.2071 - val_accuracy: 0.9423\n",
            "Epoch 27/150\n",
            "43/43 [==============================] - 9s 197ms/step - loss: 0.0314 - accuracy: 0.9842 - val_loss: 0.2605 - val_accuracy: 0.9478\n",
            "Epoch 28/150\n",
            "43/43 [==============================] - 9s 198ms/step - loss: 0.0610 - accuracy: 0.9757 - val_loss: 0.2545 - val_accuracy: 0.9423\n",
            "Epoch 29/150\n",
            "43/43 [==============================] - 9s 199ms/step - loss: 0.0588 - accuracy: 0.9833 - val_loss: 0.2772 - val_accuracy: 0.9313\n",
            "Epoch 30/150\n",
            "43/43 [==============================] - 9s 199ms/step - loss: 0.0514 - accuracy: 0.9847 - val_loss: 0.2694 - val_accuracy: 0.9451\n",
            "Epoch 31/150\n",
            "43/43 [==============================] - 9s 199ms/step - loss: 0.0143 - accuracy: 0.9952 - val_loss: 0.2109 - val_accuracy: 0.9478\n",
            "Epoch 32/150\n",
            "43/43 [==============================] - 9s 197ms/step - loss: 0.0284 - accuracy: 0.9906 - val_loss: 0.3502 - val_accuracy: 0.9423\n",
            "Epoch 33/150\n",
            "43/43 [==============================] - 9s 200ms/step - loss: 0.0249 - accuracy: 0.9931 - val_loss: 0.5574 - val_accuracy: 0.9313\n",
            "Epoch 34/150\n",
            "43/43 [==============================] - 9s 198ms/step - loss: 0.0443 - accuracy: 0.9903 - val_loss: 0.3172 - val_accuracy: 0.9423\n",
            "Epoch 35/150\n",
            "43/43 [==============================] - 9s 198ms/step - loss: 0.0372 - accuracy: 0.9873 - val_loss: 0.3664 - val_accuracy: 0.9286\n",
            "Epoch 36/150\n",
            "43/43 [==============================] - 9s 199ms/step - loss: 0.0252 - accuracy: 0.9932 - val_loss: 0.3286 - val_accuracy: 0.9341\n",
            "Epoch 37/150\n",
            "43/43 [==============================] - 9s 198ms/step - loss: 0.0297 - accuracy: 0.9927 - val_loss: 0.3159 - val_accuracy: 0.9451\n",
            "Epoch 38/150\n",
            "43/43 [==============================] - 9s 198ms/step - loss: 0.0205 - accuracy: 0.9937 - val_loss: 0.2620 - val_accuracy: 0.9341\n",
            "Epoch 39/150\n",
            "43/43 [==============================] - 9s 198ms/step - loss: 0.0270 - accuracy: 0.9895 - val_loss: 0.5755 - val_accuracy: 0.9396\n",
            "Epoch 40/150\n",
            "43/43 [==============================] - 9s 197ms/step - loss: 0.0540 - accuracy: 0.9808 - val_loss: 0.4765 - val_accuracy: 0.9121\n",
            "Epoch 41/150\n",
            "43/43 [==============================] - 9s 198ms/step - loss: 0.0490 - accuracy: 0.9847 - val_loss: 0.3758 - val_accuracy: 0.9313\n",
            "Epoch 42/150\n",
            "43/43 [==============================] - 9s 199ms/step - loss: 0.0333 - accuracy: 0.9904 - val_loss: 0.4134 - val_accuracy: 0.9396\n",
            "Epoch 43/150\n",
            "43/43 [==============================] - 8s 197ms/step - loss: 0.0193 - accuracy: 0.9942 - val_loss: 0.6288 - val_accuracy: 0.9093\n",
            "Epoch 44/150\n",
            "43/43 [==============================] - 9s 198ms/step - loss: 0.0469 - accuracy: 0.9874 - val_loss: 0.4296 - val_accuracy: 0.9368\n",
            "Epoch 45/150\n",
            "43/43 [==============================] - 9s 198ms/step - loss: 0.0234 - accuracy: 0.9949 - val_loss: 0.4084 - val_accuracy: 0.9396\n",
            "Epoch 46/150\n",
            "43/43 [==============================] - 9s 197ms/step - loss: 0.0267 - accuracy: 0.9925 - val_loss: 0.5183 - val_accuracy: 0.9286\n",
            "Epoch 47/150\n",
            "43/43 [==============================] - 9s 199ms/step - loss: 0.0343 - accuracy: 0.9936 - val_loss: 0.4001 - val_accuracy: 0.9423\n",
            "Epoch 48/150\n",
            "43/43 [==============================] - 9s 199ms/step - loss: 0.0218 - accuracy: 0.9910 - val_loss: 0.3935 - val_accuracy: 0.9313\n",
            "Epoch 49/150\n",
            "43/43 [==============================] - 9s 200ms/step - loss: 0.0152 - accuracy: 0.9949 - val_loss: 0.5174 - val_accuracy: 0.9423\n",
            "Epoch 50/150\n",
            "43/43 [==============================] - 9s 198ms/step - loss: 0.0165 - accuracy: 0.9945 - val_loss: 0.3907 - val_accuracy: 0.9423\n",
            "Epoch 51/150\n",
            "43/43 [==============================] - 9s 198ms/step - loss: 0.0212 - accuracy: 0.9956 - val_loss: 0.4852 - val_accuracy: 0.9286\n",
            "Epoch 52/150\n",
            "43/43 [==============================] - 9s 198ms/step - loss: 0.0167 - accuracy: 0.9950 - val_loss: 0.6651 - val_accuracy: 0.9093\n",
            "Epoch 53/150\n",
            "43/43 [==============================] - 9s 199ms/step - loss: 0.0277 - accuracy: 0.9935 - val_loss: 0.4951 - val_accuracy: 0.9258\n",
            "Epoch 54/150\n",
            "43/43 [==============================] - 9s 200ms/step - loss: 0.0098 - accuracy: 0.9967 - val_loss: 0.4362 - val_accuracy: 0.9396\n",
            "Epoch 55/150\n",
            "43/43 [==============================] - 9s 198ms/step - loss: 0.0369 - accuracy: 0.9826 - val_loss: 0.4673 - val_accuracy: 0.9313\n",
            "Epoch 56/150\n",
            "43/43 [==============================] - 9s 197ms/step - loss: 0.0288 - accuracy: 0.9937 - val_loss: 0.4664 - val_accuracy: 0.9396\n",
            "Epoch 57/150\n",
            "43/43 [==============================] - 9s 198ms/step - loss: 0.0089 - accuracy: 0.9964 - val_loss: 0.4530 - val_accuracy: 0.9313\n",
            "Epoch 58/150\n",
            "43/43 [==============================] - 9s 199ms/step - loss: 0.0164 - accuracy: 0.9951 - val_loss: 0.5319 - val_accuracy: 0.9396\n",
            "Epoch 59/150\n",
            "43/43 [==============================] - 9s 198ms/step - loss: 0.0167 - accuracy: 0.9942 - val_loss: 0.6034 - val_accuracy: 0.9423\n",
            "Epoch 60/150\n",
            "43/43 [==============================] - 9s 197ms/step - loss: 0.0239 - accuracy: 0.9950 - val_loss: 0.4360 - val_accuracy: 0.9286\n",
            "Epoch 61/150\n",
            "43/43 [==============================] - 9s 197ms/step - loss: 0.0168 - accuracy: 0.9952 - val_loss: 0.5200 - val_accuracy: 0.9451\n",
            "Epoch 62/150\n",
            "43/43 [==============================] - 8s 197ms/step - loss: 0.0219 - accuracy: 0.9939 - val_loss: 0.5242 - val_accuracy: 0.9286\n",
            "Epoch 63/150\n",
            "43/43 [==============================] - 9s 197ms/step - loss: 0.0185 - accuracy: 0.9955 - val_loss: 0.5354 - val_accuracy: 0.9341\n",
            "Epoch 64/150\n",
            "43/43 [==============================] - 8s 197ms/step - loss: 0.0098 - accuracy: 0.9976 - val_loss: 0.7205 - val_accuracy: 0.9341\n",
            "Epoch 65/150\n",
            "43/43 [==============================] - 9s 197ms/step - loss: 0.0099 - accuracy: 0.9979 - val_loss: 0.6570 - val_accuracy: 0.9423\n",
            "Epoch 66/150\n",
            "43/43 [==============================] - 9s 198ms/step - loss: 0.0148 - accuracy: 0.9951 - val_loss: 0.8181 - val_accuracy: 0.9368\n",
            "Epoch 67/150\n",
            "43/43 [==============================] - 9s 198ms/step - loss: 0.0160 - accuracy: 0.9951 - val_loss: 0.9157 - val_accuracy: 0.9066\n",
            "Epoch 68/150\n",
            "43/43 [==============================] - 9s 198ms/step - loss: 0.0350 - accuracy: 0.9899 - val_loss: 0.7208 - val_accuracy: 0.9368\n",
            "Epoch 69/150\n",
            "43/43 [==============================] - 9s 201ms/step - loss: 0.0069 - accuracy: 0.9981 - val_loss: 0.5635 - val_accuracy: 0.9560\n",
            "Epoch 70/150\n",
            "43/43 [==============================] - 9s 199ms/step - loss: 0.0183 - accuracy: 0.9965 - val_loss: 0.8301 - val_accuracy: 0.9341\n",
            "Epoch 71/150\n",
            "43/43 [==============================] - 9s 198ms/step - loss: 0.0124 - accuracy: 0.9983 - val_loss: 0.8048 - val_accuracy: 0.9423\n",
            "Epoch 72/150\n",
            "43/43 [==============================] - 9s 198ms/step - loss: 0.0136 - accuracy: 0.9950 - val_loss: 0.9164 - val_accuracy: 0.9258\n",
            "Epoch 73/150\n",
            "43/43 [==============================] - 9s 198ms/step - loss: 0.0103 - accuracy: 0.9977 - val_loss: 0.8679 - val_accuracy: 0.9258\n",
            "Epoch 74/150\n",
            "43/43 [==============================] - 9s 197ms/step - loss: 0.0379 - accuracy: 0.9949 - val_loss: 0.7251 - val_accuracy: 0.9368\n",
            "Epoch 75/150\n",
            "43/43 [==============================] - 9s 197ms/step - loss: 0.0275 - accuracy: 0.9945 - val_loss: 0.6584 - val_accuracy: 0.9451\n",
            "Epoch 76/150\n",
            "43/43 [==============================] - 9s 198ms/step - loss: 0.0170 - accuracy: 0.9944 - val_loss: 0.8013 - val_accuracy: 0.9313\n",
            "Epoch 77/150\n",
            "43/43 [==============================] - 9s 199ms/step - loss: 0.0348 - accuracy: 0.9933 - val_loss: 0.8644 - val_accuracy: 0.9478\n",
            "Epoch 78/150\n",
            "43/43 [==============================] - 9s 197ms/step - loss: 0.0536 - accuracy: 0.9922 - val_loss: 0.5085 - val_accuracy: 0.9423\n",
            "Epoch 79/150\n",
            "43/43 [==============================] - 9s 197ms/step - loss: 0.0140 - accuracy: 0.9943 - val_loss: 0.6937 - val_accuracy: 0.9176\n",
            "Epoch 80/150\n",
            "43/43 [==============================] - 9s 198ms/step - loss: 0.0299 - accuracy: 0.9947 - val_loss: 0.5958 - val_accuracy: 0.9396\n",
            "Epoch 81/150\n",
            "43/43 [==============================] - 9s 198ms/step - loss: 9.4496e-04 - accuracy: 1.0000 - val_loss: 1.0244 - val_accuracy: 0.9505\n",
            "Epoch 82/150\n",
            "43/43 [==============================] - 9s 198ms/step - loss: 0.0225 - accuracy: 0.9957 - val_loss: 0.6474 - val_accuracy: 0.9368\n",
            "Epoch 83/150\n",
            "43/43 [==============================] - 9s 198ms/step - loss: 0.0222 - accuracy: 0.9968 - val_loss: 0.7052 - val_accuracy: 0.9258\n",
            "Epoch 84/150\n",
            "43/43 [==============================] - 9s 198ms/step - loss: 0.0226 - accuracy: 0.9965 - val_loss: 0.5964 - val_accuracy: 0.9396\n",
            "Epoch 85/150\n",
            "43/43 [==============================] - 8s 197ms/step - loss: 0.0162 - accuracy: 0.9960 - val_loss: 0.5775 - val_accuracy: 0.9423\n",
            "Epoch 86/150\n",
            "43/43 [==============================] - 9s 198ms/step - loss: 0.0157 - accuracy: 0.9972 - val_loss: 0.5466 - val_accuracy: 0.9423\n",
            "Epoch 87/150\n",
            "43/43 [==============================] - 9s 198ms/step - loss: 0.0180 - accuracy: 0.9963 - val_loss: 0.6622 - val_accuracy: 0.9368\n",
            "Epoch 88/150\n",
            "43/43 [==============================] - 9s 198ms/step - loss: 0.0783 - accuracy: 0.9858 - val_loss: 0.5468 - val_accuracy: 0.9341\n",
            "Epoch 89/150\n",
            "43/43 [==============================] - 9s 198ms/step - loss: 0.0033 - accuracy: 0.9990 - val_loss: 0.6814 - val_accuracy: 0.9396\n",
            "Epoch 90/150\n",
            "43/43 [==============================] - 9s 198ms/step - loss: 0.0065 - accuracy: 0.9984 - val_loss: 0.5557 - val_accuracy: 0.9313\n",
            "Epoch 91/150\n",
            "43/43 [==============================] - 9s 199ms/step - loss: 0.0100 - accuracy: 0.9967 - val_loss: 0.9621 - val_accuracy: 0.9423\n",
            "Epoch 92/150\n",
            "43/43 [==============================] - 9s 197ms/step - loss: 0.0274 - accuracy: 0.9960 - val_loss: 0.8326 - val_accuracy: 0.9451\n",
            "Epoch 93/150\n",
            "43/43 [==============================] - 8s 197ms/step - loss: 0.0221 - accuracy: 0.9974 - val_loss: 0.6689 - val_accuracy: 0.9341\n",
            "Epoch 94/150\n",
            "43/43 [==============================] - 9s 199ms/step - loss: 0.0165 - accuracy: 0.9964 - val_loss: 0.7197 - val_accuracy: 0.9176\n",
            "Epoch 95/150\n",
            "43/43 [==============================] - 9s 202ms/step - loss: 0.0132 - accuracy: 0.9928 - val_loss: 0.7227 - val_accuracy: 0.9203\n",
            "Epoch 96/150\n",
            "43/43 [==============================] - 9s 199ms/step - loss: 0.0111 - accuracy: 0.9965 - val_loss: 0.7237 - val_accuracy: 0.9451\n",
            "Epoch 97/150\n",
            "43/43 [==============================] - 9s 197ms/step - loss: 0.0128 - accuracy: 0.9950 - val_loss: 0.6435 - val_accuracy: 0.9423\n",
            "Epoch 98/150\n",
            "43/43 [==============================] - 9s 198ms/step - loss: 0.0199 - accuracy: 0.9935 - val_loss: 0.4946 - val_accuracy: 0.9396\n",
            "Epoch 99/150\n",
            "43/43 [==============================] - 9s 198ms/step - loss: 0.0224 - accuracy: 0.9941 - val_loss: 0.4495 - val_accuracy: 0.9341\n",
            "Epoch 100/150\n",
            "43/43 [==============================] - 9s 198ms/step - loss: 0.0066 - accuracy: 0.9992 - val_loss: 0.4740 - val_accuracy: 0.9505\n",
            "Epoch 101/150\n",
            "43/43 [==============================] - 9s 198ms/step - loss: 0.0127 - accuracy: 0.9947 - val_loss: 0.7254 - val_accuracy: 0.9396\n",
            "Epoch 102/150\n",
            "43/43 [==============================] - 9s 198ms/step - loss: 0.0121 - accuracy: 0.9961 - val_loss: 0.8216 - val_accuracy: 0.9396\n",
            "Epoch 103/150\n",
            "43/43 [==============================] - 9s 198ms/step - loss: 0.0197 - accuracy: 0.9969 - val_loss: 0.6129 - val_accuracy: 0.9396\n",
            "Epoch 104/150\n",
            "43/43 [==============================] - 9s 198ms/step - loss: 0.0018 - accuracy: 0.9993 - val_loss: 1.0880 - val_accuracy: 0.9423\n",
            "Epoch 105/150\n",
            "43/43 [==============================] - 9s 201ms/step - loss: 0.0965 - accuracy: 0.9939 - val_loss: 0.5593 - val_accuracy: 0.9368\n",
            "Epoch 106/150\n",
            "43/43 [==============================] - 9s 200ms/step - loss: 0.0043 - accuracy: 0.9998 - val_loss: 1.7838 - val_accuracy: 0.8764\n",
            "Epoch 107/150\n",
            "43/43 [==============================] - 9s 198ms/step - loss: 0.0345 - accuracy: 0.9954 - val_loss: 0.8304 - val_accuracy: 0.9451\n",
            "Epoch 108/150\n",
            "43/43 [==============================] - 9s 198ms/step - loss: 0.0187 - accuracy: 0.9960 - val_loss: 1.0177 - val_accuracy: 0.9203\n",
            "Epoch 109/150\n",
            "43/43 [==============================] - 8s 197ms/step - loss: 0.0407 - accuracy: 0.9926 - val_loss: 1.4549 - val_accuracy: 0.9093\n",
            "Epoch 110/150\n",
            "43/43 [==============================] - 9s 197ms/step - loss: 0.0148 - accuracy: 0.9947 - val_loss: 0.9650 - val_accuracy: 0.9396\n",
            "Epoch 111/150\n",
            "43/43 [==============================] - 9s 197ms/step - loss: 0.0050 - accuracy: 0.9988 - val_loss: 0.8360 - val_accuracy: 0.9368\n",
            "Epoch 112/150\n",
            "43/43 [==============================] - 9s 198ms/step - loss: 0.0083 - accuracy: 0.9957 - val_loss: 1.3853 - val_accuracy: 0.8846\n",
            "Epoch 113/150\n",
            "43/43 [==============================] - 9s 201ms/step - loss: 0.0187 - accuracy: 0.9949 - val_loss: 1.2642 - val_accuracy: 0.9451\n",
            "Epoch 114/150\n",
            "43/43 [==============================] - 9s 199ms/step - loss: 0.0134 - accuracy: 0.9969 - val_loss: 0.6353 - val_accuracy: 0.9011\n",
            "Epoch 115/150\n",
            "43/43 [==============================] - 9s 198ms/step - loss: 0.0178 - accuracy: 0.9915 - val_loss: 1.1547 - val_accuracy: 0.9341\n",
            "Epoch 116/150\n",
            "43/43 [==============================] - 9s 198ms/step - loss: 0.0211 - accuracy: 0.9971 - val_loss: 1.1679 - val_accuracy: 0.9423\n",
            "Epoch 117/150\n",
            "43/43 [==============================] - 9s 199ms/step - loss: 0.0073 - accuracy: 0.9996 - val_loss: 0.8113 - val_accuracy: 0.9451\n",
            "Epoch 118/150\n",
            "43/43 [==============================] - 8s 196ms/step - loss: 0.0049 - accuracy: 0.9992 - val_loss: 0.9469 - val_accuracy: 0.9286\n",
            "Epoch 119/150\n",
            "43/43 [==============================] - 9s 197ms/step - loss: 0.0044 - accuracy: 0.9988 - val_loss: 1.0612 - val_accuracy: 0.9341\n",
            "Epoch 120/150\n",
            "43/43 [==============================] - 9s 197ms/step - loss: 0.0456 - accuracy: 0.9891 - val_loss: 1.2246 - val_accuracy: 0.9341\n",
            "Epoch 121/150\n",
            "43/43 [==============================] - 9s 198ms/step - loss: 0.0048 - accuracy: 0.9991 - val_loss: 1.3866 - val_accuracy: 0.9341\n",
            "Epoch 122/150\n",
            "43/43 [==============================] - 9s 198ms/step - loss: 0.0028 - accuracy: 0.9996 - val_loss: 1.4452 - val_accuracy: 0.9203\n",
            "Epoch 123/150\n",
            "43/43 [==============================] - 9s 199ms/step - loss: 0.0039 - accuracy: 0.9991 - val_loss: 0.7677 - val_accuracy: 0.9451\n",
            "Epoch 124/150\n",
            "43/43 [==============================] - 9s 200ms/step - loss: 0.0116 - accuracy: 0.9955 - val_loss: 0.9176 - val_accuracy: 0.9533\n",
            "Epoch 125/150\n",
            "43/43 [==============================] - 9s 198ms/step - loss: 0.0219 - accuracy: 0.9972 - val_loss: 1.0892 - val_accuracy: 0.9505\n",
            "Epoch 126/150\n",
            "43/43 [==============================] - 9s 198ms/step - loss: 0.0214 - accuracy: 0.9980 - val_loss: 1.0115 - val_accuracy: 0.9258\n",
            "Epoch 127/150\n",
            "43/43 [==============================] - 9s 197ms/step - loss: 0.0130 - accuracy: 0.9982 - val_loss: 0.8655 - val_accuracy: 0.9451\n",
            "Epoch 128/150\n",
            "43/43 [==============================] - 9s 198ms/step - loss: 0.0050 - accuracy: 0.9962 - val_loss: 1.3107 - val_accuracy: 0.9423\n",
            "Epoch 129/150\n",
            "43/43 [==============================] - 9s 198ms/step - loss: 0.0133 - accuracy: 0.9993 - val_loss: 1.7521 - val_accuracy: 0.8956\n",
            "Epoch 130/150\n",
            "43/43 [==============================] - 9s 197ms/step - loss: 0.0432 - accuracy: 0.9938 - val_loss: 0.9563 - val_accuracy: 0.9423\n",
            "Epoch 131/150\n",
            "43/43 [==============================] - 9s 199ms/step - loss: 0.0095 - accuracy: 0.9978 - val_loss: 1.2464 - val_accuracy: 0.9451\n",
            "Epoch 132/150\n",
            "43/43 [==============================] - 9s 199ms/step - loss: 0.0191 - accuracy: 0.9967 - val_loss: 0.8314 - val_accuracy: 0.9423\n",
            "Epoch 133/150\n",
            "43/43 [==============================] - 9s 200ms/step - loss: 0.0052 - accuracy: 0.9983 - val_loss: 1.4136 - val_accuracy: 0.9368\n",
            "Epoch 134/150\n",
            "43/43 [==============================] - 9s 198ms/step - loss: 0.1282 - accuracy: 0.9852 - val_loss: 1.2350 - val_accuracy: 0.9368\n",
            "Epoch 135/150\n",
            "43/43 [==============================] - 9s 197ms/step - loss: 0.0103 - accuracy: 0.9966 - val_loss: 1.0181 - val_accuracy: 0.9423\n",
            "Epoch 136/150\n",
            "43/43 [==============================] - 9s 198ms/step - loss: 0.0118 - accuracy: 0.9967 - val_loss: 1.5342 - val_accuracy: 0.9396\n",
            "Epoch 137/150\n",
            "43/43 [==============================] - 9s 198ms/step - loss: 0.0652 - accuracy: 0.9901 - val_loss: 1.0107 - val_accuracy: 0.9258\n",
            "Epoch 138/150\n",
            "43/43 [==============================] - 9s 198ms/step - loss: 0.0179 - accuracy: 0.9986 - val_loss: 0.9765 - val_accuracy: 0.9176\n",
            "Epoch 139/150\n",
            "43/43 [==============================] - 9s 198ms/step - loss: 0.0116 - accuracy: 0.9934 - val_loss: 1.3866 - val_accuracy: 0.9396\n",
            "Epoch 140/150\n",
            "43/43 [==============================] - 9s 199ms/step - loss: 0.0038 - accuracy: 0.9989 - val_loss: 0.9362 - val_accuracy: 0.9368\n",
            "Epoch 141/150\n",
            "43/43 [==============================] - 9s 200ms/step - loss: 0.0204 - accuracy: 0.9957 - val_loss: 1.7985 - val_accuracy: 0.9423\n",
            "Epoch 142/150\n",
            "43/43 [==============================] - 9s 199ms/step - loss: 0.0046 - accuracy: 0.9985 - val_loss: 1.4450 - val_accuracy: 0.9341\n",
            "Epoch 143/150\n",
            "43/43 [==============================] - 9s 198ms/step - loss: 0.0582 - accuracy: 0.9897 - val_loss: 0.9486 - val_accuracy: 0.9396\n",
            "Epoch 144/150\n",
            "43/43 [==============================] - 9s 198ms/step - loss: 0.0202 - accuracy: 0.9938 - val_loss: 1.4089 - val_accuracy: 0.9341\n",
            "Epoch 145/150\n",
            "43/43 [==============================] - 9s 198ms/step - loss: 0.0130 - accuracy: 0.9961 - val_loss: 1.8112 - val_accuracy: 0.9341\n",
            "Epoch 146/150\n",
            "43/43 [==============================] - 9s 197ms/step - loss: 0.0339 - accuracy: 0.9945 - val_loss: 2.3299 - val_accuracy: 0.9121\n",
            "Epoch 147/150\n",
            "43/43 [==============================] - 9s 198ms/step - loss: 0.0164 - accuracy: 0.9978 - val_loss: 1.8561 - val_accuracy: 0.9396\n",
            "Epoch 148/150\n",
            "43/43 [==============================] - 9s 198ms/step - loss: 0.0950 - accuracy: 0.9933 - val_loss: 1.5220 - val_accuracy: 0.9423\n",
            "Epoch 149/150\n",
            "43/43 [==============================] - 9s 198ms/step - loss: 0.0145 - accuracy: 0.9974 - val_loss: 1.5609 - val_accuracy: 0.9396\n",
            "Epoch 150/150\n",
            "43/43 [==============================] - 9s 198ms/step - loss: 0.1174 - accuracy: 0.9970 - val_loss: 2.5369 - val_accuracy: 0.9231\n"
          ],
          "name": "stdout"
        }
      ]
    },
    {
      "cell_type": "code",
      "metadata": {
        "id": "UV-VPb-lA3jc"
      },
      "source": [
        ""
      ],
      "execution_count": null,
      "outputs": []
    },
    {
      "cell_type": "code",
      "metadata": {
        "id": "P0Fk-e8wA3jd",
        "colab": {
          "base_uri": "https://localhost:8080/",
          "height": 308
        },
        "outputId": "d679215f-920b-4bda-ba29-aff4ff4a484b"
      },
      "source": [
        "f, (ax1, ax2) = plt.subplots(1, 2, figsize=(12, 4))\n",
        "t = f.suptitle('Pre-trained CNN (Transfer Learning) Performance', fontsize=12)\n",
        "f.subplots_adjust(top=0.85, wspace=0.3)\n",
        "\n",
        "epoch_list = list(range(1,151))\n",
        "ax1.plot(epoch_list, history.history['accuracy'], label='Train Accuracy')\n",
        "ax1.plot(epoch_list, history.history['val_accuracy'], label='Validation Accuracy')\n",
        "ax1.set_xticks(np.arange(0, 151, 5))\n",
        "ax1.set_ylabel('Accuracy Value')\n",
        "ax1.set_xlabel('Epoch')\n",
        "ax1.set_title('Accuracy')\n",
        "l1 = ax1.legend(loc=\"best\")\n",
        "\n",
        "ax2.plot(epoch_list, history.history['loss'], label='Train Loss')\n",
        "ax2.plot(epoch_list, history.history['val_loss'], label='Validation Loss')\n",
        "ax2.set_xticks(np.arange(0, 151, 5))\n",
        "ax2.set_ylabel('Loss Value')\n",
        "ax2.set_xlabel('Epoch')\n",
        "ax2.set_title('Loss')\n",
        "l2 = ax2.legend(loc=\"best\")"
      ],
      "execution_count": 21,
      "outputs": [
        {
          "output_type": "display_data",
          "data": {
            "image/png": "[encoded data removed]",
            "text/plain": [
              "<Figure size 864x288 with 2 Axes>"
            ]
          },
          "metadata": {
            "tags": [],
            "needs_background": "light"
          }
        }
      ]
    },
    {
      "cell_type": "code",
      "metadata": {
        "id": "wHLV0XfKA3jd"
      },
      "source": [
        "model.save('3-flower.h5')"
      ],
      "execution_count": 22,
      "outputs": []
    },
    {
      "cell_type": "code",
      "metadata": {
        "id": "eBjX3kbpA3je"
      },
      "source": [
        ""
      ],
      "execution_count": null,
      "outputs": []
    },
    {
      "cell_type": "code",
      "metadata": {
        "id": "3IaOWSbaA3je"
      },
      "source": [
        ""
      ],
      "execution_count": null,
      "outputs": []
    },
    {
      "cell_type": "code",
      "metadata": {
        "id": "Q7SzUeawA3jn"
      },
      "source": [
        ""
      ],
      "execution_count": null,
      "outputs": []
    }
  ]
}