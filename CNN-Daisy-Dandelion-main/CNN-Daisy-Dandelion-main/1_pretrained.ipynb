{
  "nbformat": 4,
  "nbformat_minor": 0,
  "metadata": {
    "kernelspec": {
      "display_name": "Python 3",
      "language": "python",
      "name": "python3"
    },
    "language_info": {
      "codemirror_mode": {
        "name": "ipython",
        "version": 3
      },
      "file_extension": ".py",
      "mimetype": "text/x-python",
      "name": "python",
      "nbconvert_exporter": "python",
      "pygments_lexer": "ipython3",
      "version": "3.7.6"
    },
    "colab": {
      "name": "4-pretrained.ipynb",
      "provenance": [],
      "include_colab_link": true
    },
    "accelerator": "GPU"
  },
  "cells": [
    {
      "cell_type": "markdown",
      "metadata": {
        "id": "view-in-github",
        "colab_type": "text"
      },
      "source": [
        "<a href=\"https://colab.research.google.com/github/JSJeong-me/CNN-Daisy-Dandelion/blob/main/1_pretrained.ipynb\" target=\"_parent\"><img src=\"https://colab.research.google.com/assets/colab-badge.svg\" alt=\"Open In Colab\"/></a>"
      ]
    },
    {
      "cell_type": "code",
      "metadata": {
        "id": "22mg_PXnCKsU",
        "colab": {
          "base_uri": "https://localhost:8080/"
        },
        "outputId": "ce0bf574-685e-473d-c14c-f1e7c5f2775a"
      },
      "source": [
        "from google.colab import drive\n",
        "drive.mount('/content/drive')"
      ],
      "execution_count": 1,
      "outputs": [
        {
          "output_type": "stream",
          "text": [
            "Mounted at /content/drive\n"
          ],
          "name": "stdout"
        }
      ]
    },
    {
      "cell_type": "code",
      "metadata": {
        "id": "6giq8ls1A3jN"
      },
      "source": [
        "%matplotlib inline"
      ],
      "execution_count": null,
      "outputs": []
    },
    {
      "cell_type": "code",
      "metadata": {
        "id": "B9GBtXmwA47m",
        "colab": {
          "base_uri": "https://localhost:8080/"
        },
        "outputId": "3ca4f012-06d4-4613-97e4-7fd323cc7dfd"
      },
      "source": [
        "!ls -l"
      ],
      "execution_count": 2,
      "outputs": [
        {
          "output_type": "stream",
          "text": [
            "total 8\n",
            "drwx------ 5 root root 4096 Jan 25 08:03 drive\n",
            "drwxr-xr-x 1 root root 4096 Jan 20 17:27 sample_data\n"
          ],
          "name": "stdout"
        }
      ]
    },
    {
      "cell_type": "code",
      "metadata": {
        "id": "FWj06i8uA6OO"
      },
      "source": [
        "!cp ./drive/MyDrive/flower.zip ."
      ],
      "execution_count": 3,
      "outputs": []
    },
    {
      "cell_type": "code",
      "metadata": {
        "id": "AEJfrotXA58E"
      },
      "source": [
        "!unzip flower.zip\r\n"
      ],
      "execution_count": null,
      "outputs": []
    },
    {
      "cell_type": "code",
      "metadata": {
        "id": "O5M05p_pA5rd"
      },
      "source": [
        ""
      ],
      "execution_count": null,
      "outputs": []
    },
    {
      "cell_type": "code",
      "metadata": {
        "id": "KPy5I5SBA3jW"
      },
      "source": [
        "import glob\n",
        "import numpy as np\n",
        "import matplotlib.pyplot as plt\n",
        "from tensorflow.keras.preprocessing.image import ImageDataGenerator, load_img, img_to_array, array_to_img"
      ],
      "execution_count": 5,
      "outputs": []
    },
    {
      "cell_type": "code",
      "metadata": {
        "id": "eZImnfGOA3jX",
        "colab": {
          "base_uri": "https://localhost:8080/"
        },
        "outputId": "067456a1-a5e8-4bc6-f381-f1742c9f1ee1"
      },
      "source": [
        "IMG_DIM = (150, 150)\n",
        "\n",
        "train_files = glob.glob('training_data/*')\n",
        "train_imgs = [img_to_array(load_img(img, target_size=IMG_DIM)) for img in train_files]\n",
        "train_imgs = np.array(train_imgs)\n",
        "train_labels = [fn.split('/')[1].split('.')[0].strip() for fn in train_files]\n",
        "\n",
        "validation_files = glob.glob('validation_data/*')\n",
        "validation_imgs = [img_to_array(load_img(img, target_size=IMG_DIM)) for img in validation_files]\n",
        "validation_imgs = np.array(validation_imgs)\n",
        "validation_labels = [fn.split('/')[1].split('.')[0].strip() for fn in validation_files]\n",
        "\n",
        "print('Train dataset shape:', train_imgs.shape, \n",
        "      '\\tValidation dataset shape:', validation_imgs.shape)"
      ],
      "execution_count": 6,
      "outputs": [
        {
          "output_type": "stream",
          "text": [
            "Train dataset shape: (1275, 150, 150, 3) \tValidation dataset shape: (364, 150, 150, 3)\n"
          ],
          "name": "stdout"
        }
      ]
    },
    {
      "cell_type": "code",
      "metadata": {
        "id": "OiDa5o60A3jX"
      },
      "source": [
        "train_imgs_scaled = train_imgs.astype('float32')\n",
        "validation_imgs_scaled = validation_imgs.astype('float32')\n",
        "train_imgs_scaled /= 255\n",
        "validation_imgs_scaled /= 255"
      ],
      "execution_count": 7,
      "outputs": []
    },
    {
      "cell_type": "code",
      "metadata": {
        "id": "COLKZn79A3jY",
        "colab": {
          "base_uri": "https://localhost:8080/"
        },
        "outputId": "0140a4b4-b87c-4113-b1e7-08b6a009b2cf"
      },
      "source": [
        "batch_size = 50\n",
        "num_classes = 2\n",
        "epochs = 150\n",
        "input_shape = (150, 150, 3)\n",
        "\n",
        "from sklearn.preprocessing import LabelEncoder\n",
        "\n",
        "le = LabelEncoder()\n",
        "le.fit(train_labels)\n",
        "# encode wine type labels\n",
        "train_labels_enc = le.transform(train_labels)\n",
        "validation_labels_enc = le.transform(validation_labels)\n",
        "\n",
        "print(train_labels[0:5], train_labels_enc[0:5])"
      ],
      "execution_count": 8,
      "outputs": [
        {
          "output_type": "stream",
          "text": [
            "['daisy', 'dandelion', 'dandelion', 'daisy', 'dandelion'] [0 1 1 0 1]\n"
          ],
          "name": "stdout"
        }
      ]
    },
    {
      "cell_type": "code",
      "metadata": {
        "id": "9fVVMivMA3jZ"
      },
      "source": [
        "\n",
        "from tensorflow.keras.applications import vgg16\n",
        "from tensorflow.keras.models import Model\n",
        "import tensorflow.keras\n",
        "\n",
        "vgg = vgg16.VGG16(include_top=False, weights='imagenet',\n",
        "                                     input_shape=input_shape)\n",
        "\n",
        "output = vgg.layers[-1].output\n",
        "output = tensorflow.keras.layers.Flatten()(output)\n",
        "\n",
        "vgg_model = Model(vgg.input, output)\n",
        "vgg_model.trainable = False\n",
        "\n",
        "for layer in vgg_model.layers:\n",
        "    layer.trainable = False\n",
        "\n",
        "vgg_model.summary()\n"
      ],
      "execution_count": null,
      "outputs": []
    },
    {
      "cell_type": "code",
      "metadata": {
        "id": "T9SDjC3EA3jZ",
        "colab": {
          "base_uri": "https://localhost:8080/",
          "height": 694
        },
        "outputId": "d380caa9-ceaa-4fcd-efde-cca3d8f5c024"
      },
      "source": [
        "import pandas as pd\n",
        "pd.set_option('max_colwidth', -1)\n",
        "\n",
        "layers = [(layer, layer.name, layer.trainable) for layer in vgg_model.layers]\n",
        "pd.DataFrame(layers, columns=['Layer Type', 'Layer Name', 'Layer Trainable'])"
      ],
      "execution_count": 10,
      "outputs": [
        {
          "output_type": "stream",
          "text": [
            "/usr/local/lib/python3.6/dist-packages/ipykernel_launcher.py:2: FutureWarning: Passing a negative integer is deprecated in version 1.0 and will not be supported in future version. Instead, use None to not limit the column width.\n",
            "  \n"
          ],
          "name": "stderr"
        },
        {
          "output_type": "execute_result",
          "data": {
            "text/html": [
              "<div>\n",
              "<style scoped>\n",
              "    .dataframe tbody tr th:only-of-type {\n",
              "        vertical-align: middle;\n",
              "    }\n",
              "\n",
              "    .dataframe tbody tr th {\n",
              "        vertical-align: top;\n",
              "    }\n",
              "\n",
              "    .dataframe thead th {\n",
              "        text-align: right;\n",
              "    }\n",
              "</style>\n",
              "<table border=\"1\" class=\"dataframe\">\n",
              "  <thead>\n",
              "    <tr style=\"text-align: right;\">\n",
              "      <th></th>\n",
              "      <th>Layer Type</th>\n",
              "      <th>Layer Name</th>\n",
              "      <th>Layer Trainable</th>\n",
              "    </tr>\n",
              "  </thead>\n",
              "  <tbody>\n",
              "    <tr>\n",
              "      <th>0</th>\n",
              "      <td>&lt;tensorflow.python.keras.engine.input_layer.InputLayer object at 0x7fefabc749b0&gt;</td>\n",
              "      <td>input_1</td>\n",
              "      <td>False</td>\n",
              "    </tr>\n",
              "    <tr>\n",
              "      <th>1</th>\n",
              "      <td>&lt;tensorflow.python.keras.layers.convolutional.Conv2D object at 0x7fefab519f28&gt;</td>\n",
              "      <td>block1_conv1</td>\n",
              "      <td>False</td>\n",
              "    </tr>\n",
              "    <tr>\n",
              "      <th>2</th>\n",
              "      <td>&lt;tensorflow.python.keras.layers.convolutional.Conv2D object at 0x7fefaacd0518&gt;</td>\n",
              "      <td>block1_conv2</td>\n",
              "      <td>False</td>\n",
              "    </tr>\n",
              "    <tr>\n",
              "      <th>3</th>\n",
              "      <td>&lt;tensorflow.python.keras.layers.pooling.MaxPooling2D object at 0x7fefaac8bfd0&gt;</td>\n",
              "      <td>block1_pool</td>\n",
              "      <td>False</td>\n",
              "    </tr>\n",
              "    <tr>\n",
              "      <th>4</th>\n",
              "      <td>&lt;tensorflow.python.keras.layers.convolutional.Conv2D object at 0x7fefaaca8438&gt;</td>\n",
              "      <td>block2_conv1</td>\n",
              "      <td>False</td>\n",
              "    </tr>\n",
              "    <tr>\n",
              "      <th>5</th>\n",
              "      <td>&lt;tensorflow.python.keras.layers.convolutional.Conv2D object at 0x7fefaacae5f8&gt;</td>\n",
              "      <td>block2_conv2</td>\n",
              "      <td>False</td>\n",
              "    </tr>\n",
              "    <tr>\n",
              "      <th>6</th>\n",
              "      <td>&lt;tensorflow.python.keras.layers.pooling.MaxPooling2D object at 0x7fefaacb4da0&gt;</td>\n",
              "      <td>block2_pool</td>\n",
              "      <td>False</td>\n",
              "    </tr>\n",
              "    <tr>\n",
              "      <th>7</th>\n",
              "      <td>&lt;tensorflow.python.keras.layers.convolutional.Conv2D object at 0x7fef5228aa58&gt;</td>\n",
              "      <td>block3_conv1</td>\n",
              "      <td>False</td>\n",
              "    </tr>\n",
              "    <tr>\n",
              "      <th>8</th>\n",
              "      <td>&lt;tensorflow.python.keras.layers.convolutional.Conv2D object at 0x7fefaacae898&gt;</td>\n",
              "      <td>block3_conv2</td>\n",
              "      <td>False</td>\n",
              "    </tr>\n",
              "    <tr>\n",
              "      <th>9</th>\n",
              "      <td>&lt;tensorflow.python.keras.layers.convolutional.Conv2D object at 0x7fef52290390&gt;</td>\n",
              "      <td>block3_conv3</td>\n",
              "      <td>False</td>\n",
              "    </tr>\n",
              "    <tr>\n",
              "      <th>10</th>\n",
              "      <td>&lt;tensorflow.python.keras.layers.pooling.MaxPooling2D object at 0x7fef52297898&gt;</td>\n",
              "      <td>block3_pool</td>\n",
              "      <td>False</td>\n",
              "    </tr>\n",
              "    <tr>\n",
              "      <th>11</th>\n",
              "      <td>&lt;tensorflow.python.keras.layers.convolutional.Conv2D object at 0x7fef52297fd0&gt;</td>\n",
              "      <td>block4_conv1</td>\n",
              "      <td>False</td>\n",
              "    </tr>\n",
              "    <tr>\n",
              "      <th>12</th>\n",
              "      <td>&lt;tensorflow.python.keras.layers.convolutional.Conv2D object at 0x7fef52290240&gt;</td>\n",
              "      <td>block4_conv2</td>\n",
              "      <td>False</td>\n",
              "    </tr>\n",
              "    <tr>\n",
              "      <th>13</th>\n",
              "      <td>&lt;tensorflow.python.keras.layers.convolutional.Conv2D object at 0x7fef5229e9e8&gt;</td>\n",
              "      <td>block4_conv3</td>\n",
              "      <td>False</td>\n",
              "    </tr>\n",
              "    <tr>\n",
              "      <th>14</th>\n",
              "      <td>&lt;tensorflow.python.keras.layers.pooling.MaxPooling2D object at 0x7fef522a3198&gt;</td>\n",
              "      <td>block4_pool</td>\n",
              "      <td>False</td>\n",
              "    </tr>\n",
              "    <tr>\n",
              "      <th>15</th>\n",
              "      <td>&lt;tensorflow.python.keras.layers.convolutional.Conv2D object at 0x7fefaacaed30&gt;</td>\n",
              "      <td>block5_conv1</td>\n",
              "      <td>False</td>\n",
              "    </tr>\n",
              "    <tr>\n",
              "      <th>16</th>\n",
              "      <td>&lt;tensorflow.python.keras.layers.convolutional.Conv2D object at 0x7fef522a86d8&gt;</td>\n",
              "      <td>block5_conv2</td>\n",
              "      <td>False</td>\n",
              "    </tr>\n",
              "    <tr>\n",
              "      <th>17</th>\n",
              "      <td>&lt;tensorflow.python.keras.layers.convolutional.Conv2D object at 0x7fef522b1e80&gt;</td>\n",
              "      <td>block5_conv3</td>\n",
              "      <td>False</td>\n",
              "    </tr>\n",
              "    <tr>\n",
              "      <th>18</th>\n",
              "      <td>&lt;tensorflow.python.keras.layers.pooling.MaxPooling2D object at 0x7fef522b1f98&gt;</td>\n",
              "      <td>block5_pool</td>\n",
              "      <td>False</td>\n",
              "    </tr>\n",
              "    <tr>\n",
              "      <th>19</th>\n",
              "      <td>&lt;tensorflow.python.keras.layers.core.Flatten object at 0x7fefaacae4e0&gt;</td>\n",
              "      <td>flatten</td>\n",
              "      <td>False</td>\n",
              "    </tr>\n",
              "  </tbody>\n",
              "</table>\n",
              "</div>"
            ],
            "text/plain": [
              "                                                                          Layer Type  ... Layer Trainable\n",
              "0   <tensorflow.python.keras.engine.input_layer.InputLayer object at 0x7fefabc749b0>  ...  False         \n",
              "1   <tensorflow.python.keras.layers.convolutional.Conv2D object at 0x7fefab519f28>    ...  False         \n",
              "2   <tensorflow.python.keras.layers.convolutional.Conv2D object at 0x7fefaacd0518>    ...  False         \n",
              "3   <tensorflow.python.keras.layers.pooling.MaxPooling2D object at 0x7fefaac8bfd0>    ...  False         \n",
              "4   <tensorflow.python.keras.layers.convolutional.Conv2D object at 0x7fefaaca8438>    ...  False         \n",
              "5   <tensorflow.python.keras.layers.convolutional.Conv2D object at 0x7fefaacae5f8>    ...  False         \n",
              "6   <tensorflow.python.keras.layers.pooling.MaxPooling2D object at 0x7fefaacb4da0>    ...  False         \n",
              "7   <tensorflow.python.keras.layers.convolutional.Conv2D object at 0x7fef5228aa58>    ...  False         \n",
              "8   <tensorflow.python.keras.layers.convolutional.Conv2D object at 0x7fefaacae898>    ...  False         \n",
              "9   <tensorflow.python.keras.layers.convolutional.Conv2D object at 0x7fef52290390>    ...  False         \n",
              "10  <tensorflow.python.keras.layers.pooling.MaxPooling2D object at 0x7fef52297898>    ...  False         \n",
              "11  <tensorflow.python.keras.layers.convolutional.Conv2D object at 0x7fef52297fd0>    ...  False         \n",
              "12  <tensorflow.python.keras.layers.convolutional.Conv2D object at 0x7fef52290240>    ...  False         \n",
              "13  <tensorflow.python.keras.layers.convolutional.Conv2D object at 0x7fef5229e9e8>    ...  False         \n",
              "14  <tensorflow.python.keras.layers.pooling.MaxPooling2D object at 0x7fef522a3198>    ...  False         \n",
              "15  <tensorflow.python.keras.layers.convolutional.Conv2D object at 0x7fefaacaed30>    ...  False         \n",
              "16  <tensorflow.python.keras.layers.convolutional.Conv2D object at 0x7fef522a86d8>    ...  False         \n",
              "17  <tensorflow.python.keras.layers.convolutional.Conv2D object at 0x7fef522b1e80>    ...  False         \n",
              "18  <tensorflow.python.keras.layers.pooling.MaxPooling2D object at 0x7fef522b1f98>    ...  False         \n",
              "19  <tensorflow.python.keras.layers.core.Flatten object at 0x7fefaacae4e0>            ...  False         \n",
              "\n",
              "[20 rows x 3 columns]"
            ]
          },
          "metadata": {
            "tags": []
          },
          "execution_count": 10
        }
      ]
    },
    {
      "cell_type": "code",
      "metadata": {
        "id": "OvJvrtrgA3ja",
        "colab": {
          "base_uri": "https://localhost:8080/"
        },
        "outputId": "a07e6a30-7ce6-4e5c-c1b4-24e72fb168b7"
      },
      "source": [
        "print(\"Trainable layers:\", vgg_model.trainable_weights)"
      ],
      "execution_count": 11,
      "outputs": [
        {
          "output_type": "stream",
          "text": [
            "Trainable layers: []\n"
          ],
          "name": "stdout"
        }
      ]
    },
    {
      "cell_type": "code",
      "metadata": {
        "id": "J_Zbyst4A3ja",
        "colab": {
          "base_uri": "https://localhost:8080/",
          "height": 304
        },
        "outputId": "2886a062-88b1-4543-9cd8-66b310528227"
      },
      "source": [
        "bottleneck_feature_example = vgg.predict(train_imgs_scaled[0:1])\n",
        "print(bottleneck_feature_example.shape)\n",
        "plt.imshow(bottleneck_feature_example[0][:,:,0])"
      ],
      "execution_count": 12,
      "outputs": [
        {
          "output_type": "stream",
          "text": [
            "(1, 4, 4, 512)\n"
          ],
          "name": "stdout"
        },
        {
          "output_type": "execute_result",
          "data": {
            "text/plain": [
              "<matplotlib.image.AxesImage at 0x7fef4bfc7470>"
            ]
          },
          "metadata": {
            "tags": []
          },
          "execution_count": 12
        },
        {
          "output_type": "display_data",
          "data": {
            "image/png": "[encoded data removed]",
            "text/plain": [
              "<Figure size 432x288 with 1 Axes>"
            ]
          },
          "metadata": {
            "tags": [],
            "needs_background": "light"
          }
        }
      ]
    },
    {
      "cell_type": "code",
      "metadata": {
        "id": "_8LY2OOaA3jb"
      },
      "source": [
        "def get_bottleneck_features(model, input_imgs):\n",
        "    \n",
        "    features = model.predict(input_imgs, verbose=0)\n",
        "    return features"
      ],
      "execution_count": 13,
      "outputs": []
    },
    {
      "cell_type": "code",
      "metadata": {
        "id": "8sekjWocA3jb",
        "colab": {
          "base_uri": "https://localhost:8080/"
        },
        "outputId": "1ff95564-9aef-492f-d14a-4ca9cb3debcc"
      },
      "source": [
        "train_features_vgg = get_bottleneck_features(vgg_model, train_imgs_scaled)\n",
        "validation_features_vgg = get_bottleneck_features(vgg_model, validation_imgs_scaled)\n",
        "\n",
        "print('Train Bottleneck Features:', train_features_vgg.shape, \n",
        "      '\\tValidation Bottleneck Features:', validation_features_vgg.shape)"
      ],
      "execution_count": 14,
      "outputs": [
        {
          "output_type": "stream",
          "text": [
            "Train Bottleneck Features: (1275, 8192) \tValidation Bottleneck Features: (364, 8192)\n"
          ],
          "name": "stdout"
        }
      ]
    },
    {
      "cell_type": "code",
      "metadata": {
        "id": "oXhFf4HLA3jc",
        "colab": {
          "base_uri": "https://localhost:8080/"
        },
        "outputId": "37b741fe-3c07-49d1-fead-23e7ed89e2ad"
      },
      "source": [
        "from tensorflow.keras.layers import Conv2D, MaxPooling2D, Flatten, Dense, Dropout, InputLayer\n",
        "from tensorflow.keras.models import Sequential\n",
        "from tensorflow.keras import optimizers\n",
        "\n",
        "input_shape = vgg_model.output_shape[1]\n",
        "\n",
        "model = Sequential()\n",
        "model.add(InputLayer(input_shape=(input_shape,)))\n",
        "model.add(Dense(512, activation='relu', input_dim=input_shape))\n",
        "model.add(Dropout(0.3))\n",
        "model.add(Dense(64, activation='relu'))\n",
        "model.add(Dropout(0.3))\n",
        "model.add(Dense(1, activation='sigmoid'))\n",
        "\n",
        "model.compile(loss='binary_crossentropy',\n",
        "              optimizer=optimizers.RMSprop(lr=1e-4),\n",
        "              metrics=['accuracy'])\n",
        "\n",
        "model.summary()"
      ],
      "execution_count": 16,
      "outputs": [
        {
          "output_type": "stream",
          "text": [
            "Model: \"sequential_1\"\n",
            "_________________________________________________________________\n",
            "Layer (type)                 Output Shape              Param #   \n",
            "=================================================================\n",
            "dense_3 (Dense)              (None, 512)               4194816   \n",
            "_________________________________________________________________\n",
            "dropout_2 (Dropout)          (None, 512)               0         \n",
            "_________________________________________________________________\n",
            "dense_4 (Dense)              (None, 64)                32832     \n",
            "_________________________________________________________________\n",
            "dropout_3 (Dropout)          (None, 64)                0         \n",
            "_________________________________________________________________\n",
            "dense_5 (Dense)              (None, 1)                 65        \n",
            "=================================================================\n",
            "Total params: 4,227,713\n",
            "Trainable params: 4,227,713\n",
            "Non-trainable params: 0\n",
            "_________________________________________________________________\n"
          ],
          "name": "stdout"
        }
      ]
    },
    {
      "cell_type": "code",
      "metadata": {
        "id": "UV-VPb-lA3jc",
        "colab": {
          "base_uri": "https://localhost:8080/"
        },
        "outputId": "c556629a-a2c6-4802-df13-d7a81f5453bc"
      },
      "source": [
        "history = model.fit(x=train_features_vgg, y=train_labels_enc,\n",
        "                    validation_data=(validation_features_vgg, validation_labels_enc),\n",
        "                    batch_size=batch_size,\n",
        "                    epochs=epochs,\n",
        "                    verbose=1)"
      ],
      "execution_count": 17,
      "outputs": [
        {
          "output_type": "stream",
          "text": [
            "Epoch 1/150\n",
            "26/26 [==============================] - 1s 21ms/step - loss: 0.6438 - accuracy: 0.6577 - val_loss: 0.3746 - val_accuracy: 0.8434\n",
            "Epoch 2/150\n",
            "26/26 [==============================] - 0s 7ms/step - loss: 0.3550 - accuracy: 0.8559 - val_loss: 0.3544 - val_accuracy: 0.8379\n",
            "Epoch 3/150\n",
            "26/26 [==============================] - 0s 7ms/step - loss: 0.2823 - accuracy: 0.8781 - val_loss: 0.3069 - val_accuracy: 0.8709\n",
            "Epoch 4/150\n",
            "26/26 [==============================] - 0s 7ms/step - loss: 0.2568 - accuracy: 0.8956 - val_loss: 0.3029 - val_accuracy: 0.8736\n",
            "Epoch 5/150\n",
            "26/26 [==============================] - 0s 6ms/step - loss: 0.2373 - accuracy: 0.9064 - val_loss: 0.3147 - val_accuracy: 0.8709\n",
            "Epoch 6/150\n",
            "26/26 [==============================] - 0s 6ms/step - loss: 0.1962 - accuracy: 0.9184 - val_loss: 0.2925 - val_accuracy: 0.8709\n",
            "Epoch 7/150\n",
            "26/26 [==============================] - 0s 6ms/step - loss: 0.1695 - accuracy: 0.9267 - val_loss: 0.4392 - val_accuracy: 0.8077\n",
            "Epoch 8/150\n",
            "26/26 [==============================] - 0s 7ms/step - loss: 0.1597 - accuracy: 0.9442 - val_loss: 0.3108 - val_accuracy: 0.8626\n",
            "Epoch 9/150\n",
            "26/26 [==============================] - 0s 11ms/step - loss: 0.1318 - accuracy: 0.9436 - val_loss: 0.3722 - val_accuracy: 0.8352\n",
            "Epoch 10/150\n",
            "26/26 [==============================] - 0s 7ms/step - loss: 0.1017 - accuracy: 0.9684 - val_loss: 0.3427 - val_accuracy: 0.8571\n",
            "Epoch 11/150\n",
            "26/26 [==============================] - 0s 7ms/step - loss: 0.1049 - accuracy: 0.9634 - val_loss: 0.3710 - val_accuracy: 0.8516\n",
            "Epoch 12/150\n",
            "26/26 [==============================] - 0s 7ms/step - loss: 0.0894 - accuracy: 0.9639 - val_loss: 0.3689 - val_accuracy: 0.8544\n",
            "Epoch 13/150\n",
            "26/26 [==============================] - 0s 7ms/step - loss: 0.0844 - accuracy: 0.9742 - val_loss: 0.3535 - val_accuracy: 0.8709\n",
            "Epoch 14/150\n",
            "26/26 [==============================] - 0s 7ms/step - loss: 0.0685 - accuracy: 0.9780 - val_loss: 0.4478 - val_accuracy: 0.8379\n",
            "Epoch 15/150\n",
            "26/26 [==============================] - 0s 7ms/step - loss: 0.0689 - accuracy: 0.9779 - val_loss: 0.3759 - val_accuracy: 0.8929\n",
            "Epoch 16/150\n",
            "26/26 [==============================] - 0s 7ms/step - loss: 0.0447 - accuracy: 0.9883 - val_loss: 0.3867 - val_accuracy: 0.8709\n",
            "Epoch 17/150\n",
            "26/26 [==============================] - 0s 7ms/step - loss: 0.0408 - accuracy: 0.9904 - val_loss: 0.3845 - val_accuracy: 0.8736\n",
            "Epoch 18/150\n",
            "26/26 [==============================] - 0s 7ms/step - loss: 0.0401 - accuracy: 0.9868 - val_loss: 0.4783 - val_accuracy: 0.8544\n",
            "Epoch 19/150\n",
            "26/26 [==============================] - 0s 7ms/step - loss: 0.0327 - accuracy: 0.9924 - val_loss: 0.5851 - val_accuracy: 0.8681\n",
            "Epoch 20/150\n",
            "26/26 [==============================] - 0s 6ms/step - loss: 0.0354 - accuracy: 0.9854 - val_loss: 0.4329 - val_accuracy: 0.8709\n",
            "Epoch 21/150\n",
            "26/26 [==============================] - 0s 6ms/step - loss: 0.0253 - accuracy: 0.9938 - val_loss: 0.4468 - val_accuracy: 0.8736\n",
            "Epoch 22/150\n",
            "26/26 [==============================] - 0s 6ms/step - loss: 0.0240 - accuracy: 0.9914 - val_loss: 0.4792 - val_accuracy: 0.8764\n",
            "Epoch 23/150\n",
            "26/26 [==============================] - 0s 6ms/step - loss: 0.0218 - accuracy: 0.9932 - val_loss: 0.4852 - val_accuracy: 0.8681\n",
            "Epoch 24/150\n",
            "26/26 [==============================] - 0s 6ms/step - loss: 0.0171 - accuracy: 0.9979 - val_loss: 0.4969 - val_accuracy: 0.8736\n",
            "Epoch 25/150\n",
            "26/26 [==============================] - 0s 7ms/step - loss: 0.0222 - accuracy: 0.9930 - val_loss: 0.5307 - val_accuracy: 0.8819\n",
            "Epoch 26/150\n",
            "26/26 [==============================] - 0s 7ms/step - loss: 0.0136 - accuracy: 0.9972 - val_loss: 0.5309 - val_accuracy: 0.8681\n",
            "Epoch 27/150\n",
            "26/26 [==============================] - 0s 7ms/step - loss: 0.0142 - accuracy: 0.9969 - val_loss: 0.5763 - val_accuracy: 0.8654\n",
            "Epoch 28/150\n",
            "26/26 [==============================] - 0s 7ms/step - loss: 0.0112 - accuracy: 0.9982 - val_loss: 0.5735 - val_accuracy: 0.8791\n",
            "Epoch 29/150\n",
            "26/26 [==============================] - 0s 7ms/step - loss: 0.0096 - accuracy: 1.0000 - val_loss: 0.5581 - val_accuracy: 0.8764\n",
            "Epoch 30/150\n",
            "26/26 [==============================] - 0s 7ms/step - loss: 0.0059 - accuracy: 0.9991 - val_loss: 0.5836 - val_accuracy: 0.8819\n",
            "Epoch 31/150\n",
            "26/26 [==============================] - 0s 7ms/step - loss: 0.0045 - accuracy: 1.0000 - val_loss: 0.6302 - val_accuracy: 0.8654\n",
            "Epoch 32/150\n",
            "26/26 [==============================] - 0s 7ms/step - loss: 0.0041 - accuracy: 0.9997 - val_loss: 0.6066 - val_accuracy: 0.8764\n",
            "Epoch 33/150\n",
            "26/26 [==============================] - 0s 6ms/step - loss: 0.0032 - accuracy: 1.0000 - val_loss: 0.7045 - val_accuracy: 0.8874\n",
            "Epoch 34/150\n",
            "26/26 [==============================] - 0s 6ms/step - loss: 0.0042 - accuracy: 0.9996 - val_loss: 0.6327 - val_accuracy: 0.8819\n",
            "Epoch 35/150\n",
            "26/26 [==============================] - 0s 6ms/step - loss: 0.0031 - accuracy: 1.0000 - val_loss: 0.6383 - val_accuracy: 0.8764\n",
            "Epoch 36/150\n",
            "26/26 [==============================] - 0s 6ms/step - loss: 0.0017 - accuracy: 1.0000 - val_loss: 0.6575 - val_accuracy: 0.8736\n",
            "Epoch 37/150\n",
            "26/26 [==============================] - 0s 6ms/step - loss: 0.0094 - accuracy: 0.9966 - val_loss: 0.6578 - val_accuracy: 0.8764\n",
            "Epoch 38/150\n",
            "26/26 [==============================] - 0s 6ms/step - loss: 9.5694e-04 - accuracy: 1.0000 - val_loss: 0.8462 - val_accuracy: 0.8462\n",
            "Epoch 39/150\n",
            "26/26 [==============================] - 0s 6ms/step - loss: 0.0099 - accuracy: 0.9979 - val_loss: 0.7023 - val_accuracy: 0.8736\n",
            "Epoch 40/150\n",
            "26/26 [==============================] - 0s 6ms/step - loss: 8.3330e-04 - accuracy: 1.0000 - val_loss: 0.7721 - val_accuracy: 0.8654\n",
            "Epoch 41/150\n",
            "26/26 [==============================] - 0s 6ms/step - loss: 0.0022 - accuracy: 0.9998 - val_loss: 0.7527 - val_accuracy: 0.8654\n",
            "Epoch 42/150\n",
            "26/26 [==============================] - 0s 7ms/step - loss: 0.0017 - accuracy: 0.9999 - val_loss: 0.7462 - val_accuracy: 0.8764\n",
            "Epoch 43/150\n",
            "26/26 [==============================] - 0s 7ms/step - loss: 0.0013 - accuracy: 1.0000 - val_loss: 0.7717 - val_accuracy: 0.8709\n",
            "Epoch 44/150\n",
            "26/26 [==============================] - 0s 7ms/step - loss: 0.0055 - accuracy: 0.9984 - val_loss: 0.7652 - val_accuracy: 0.8709\n",
            "Epoch 45/150\n",
            "26/26 [==============================] - 0s 7ms/step - loss: 4.6656e-04 - accuracy: 1.0000 - val_loss: 0.7848 - val_accuracy: 0.8736\n",
            "Epoch 46/150\n",
            "26/26 [==============================] - 0s 7ms/step - loss: 5.7209e-04 - accuracy: 1.0000 - val_loss: 0.8952 - val_accuracy: 0.8599\n",
            "Epoch 47/150\n",
            "26/26 [==============================] - 0s 7ms/step - loss: 0.0030 - accuracy: 0.9987 - val_loss: 0.8367 - val_accuracy: 0.8709\n",
            "Epoch 48/150\n",
            "26/26 [==============================] - 0s 7ms/step - loss: 3.2638e-04 - accuracy: 1.0000 - val_loss: 0.8468 - val_accuracy: 0.8709\n",
            "Epoch 49/150\n",
            "26/26 [==============================] - 0s 7ms/step - loss: 3.3998e-04 - accuracy: 1.0000 - val_loss: 0.8341 - val_accuracy: 0.8846\n",
            "Epoch 50/150\n",
            "26/26 [==============================] - 0s 7ms/step - loss: 0.0028 - accuracy: 0.9982 - val_loss: 0.8300 - val_accuracy: 0.8709\n",
            "Epoch 51/150\n",
            "26/26 [==============================] - 0s 7ms/step - loss: 4.1845e-04 - accuracy: 1.0000 - val_loss: 0.8421 - val_accuracy: 0.8654\n",
            "Epoch 52/150\n",
            "26/26 [==============================] - 0s 7ms/step - loss: 0.0011 - accuracy: 0.9996 - val_loss: 0.8479 - val_accuracy: 0.8709\n",
            "Epoch 53/150\n",
            "26/26 [==============================] - 0s 7ms/step - loss: 2.5546e-04 - accuracy: 1.0000 - val_loss: 0.8781 - val_accuracy: 0.8819\n",
            "Epoch 54/150\n",
            "26/26 [==============================] - 0s 7ms/step - loss: 2.2535e-04 - accuracy: 1.0000 - val_loss: 0.9155 - val_accuracy: 0.8819\n",
            "Epoch 55/150\n",
            "26/26 [==============================] - 0s 10ms/step - loss: 0.0085 - accuracy: 0.9952 - val_loss: 0.9433 - val_accuracy: 0.8709\n",
            "Epoch 56/150\n",
            "26/26 [==============================] - 0s 6ms/step - loss: 2.3040e-04 - accuracy: 1.0000 - val_loss: 0.9254 - val_accuracy: 0.8709\n",
            "Epoch 57/150\n",
            "26/26 [==============================] - 0s 6ms/step - loss: 5.4306e-04 - accuracy: 0.9997 - val_loss: 0.9248 - val_accuracy: 0.8736\n",
            "Epoch 58/150\n",
            "26/26 [==============================] - 0s 7ms/step - loss: 1.6158e-04 - accuracy: 1.0000 - val_loss: 1.0499 - val_accuracy: 0.8681\n",
            "Epoch 59/150\n",
            "26/26 [==============================] - 0s 7ms/step - loss: 1.9214e-04 - accuracy: 1.0000 - val_loss: 0.9771 - val_accuracy: 0.8791\n",
            "Epoch 60/150\n",
            "26/26 [==============================] - 0s 7ms/step - loss: 9.2264e-04 - accuracy: 0.9995 - val_loss: 1.0024 - val_accuracy: 0.8709\n",
            "Epoch 61/150\n",
            "26/26 [==============================] - 0s 7ms/step - loss: 9.8744e-05 - accuracy: 1.0000 - val_loss: 1.0123 - val_accuracy: 0.8736\n",
            "Epoch 62/150\n",
            "26/26 [==============================] - 0s 7ms/step - loss: 1.6299e-04 - accuracy: 1.0000 - val_loss: 1.0340 - val_accuracy: 0.8764\n",
            "Epoch 63/150\n",
            "26/26 [==============================] - 0s 7ms/step - loss: 7.0394e-05 - accuracy: 1.0000 - val_loss: 1.2767 - val_accuracy: 0.8736\n",
            "Epoch 64/150\n",
            "26/26 [==============================] - 0s 7ms/step - loss: 0.0054 - accuracy: 1.0000 - val_loss: 1.0292 - val_accuracy: 0.8819\n",
            "Epoch 65/150\n",
            "26/26 [==============================] - 0s 7ms/step - loss: 8.7003e-05 - accuracy: 1.0000 - val_loss: 1.0467 - val_accuracy: 0.8764\n",
            "Epoch 66/150\n",
            "26/26 [==============================] - 0s 7ms/step - loss: 9.4109e-05 - accuracy: 1.0000 - val_loss: 1.0912 - val_accuracy: 0.8654\n",
            "Epoch 67/150\n",
            "26/26 [==============================] - 0s 7ms/step - loss: 4.5262e-05 - accuracy: 1.0000 - val_loss: 1.0855 - val_accuracy: 0.8709\n",
            "Epoch 68/150\n",
            "26/26 [==============================] - 0s 7ms/step - loss: 3.7611e-04 - accuracy: 1.0000 - val_loss: 1.0782 - val_accuracy: 0.8764\n",
            "Epoch 69/150\n",
            "26/26 [==============================] - 0s 6ms/step - loss: 3.6585e-05 - accuracy: 1.0000 - val_loss: 1.1062 - val_accuracy: 0.8736\n",
            "Epoch 70/150\n",
            "26/26 [==============================] - 0s 7ms/step - loss: 4.1537e-05 - accuracy: 1.0000 - val_loss: 1.1009 - val_accuracy: 0.8709\n",
            "Epoch 71/150\n",
            "26/26 [==============================] - 0s 7ms/step - loss: 3.2526e-05 - accuracy: 1.0000 - val_loss: 1.1712 - val_accuracy: 0.8764\n",
            "Epoch 72/150\n",
            "26/26 [==============================] - 0s 7ms/step - loss: 4.2566e-04 - accuracy: 1.0000 - val_loss: 1.1352 - val_accuracy: 0.8736\n",
            "Epoch 73/150\n",
            "26/26 [==============================] - 0s 7ms/step - loss: 2.7199e-05 - accuracy: 1.0000 - val_loss: 1.1569 - val_accuracy: 0.8736\n",
            "Epoch 74/150\n",
            "26/26 [==============================] - 0s 7ms/step - loss: 4.3915e-05 - accuracy: 1.0000 - val_loss: 1.1822 - val_accuracy: 0.8764\n",
            "Epoch 75/150\n",
            "26/26 [==============================] - 0s 7ms/step - loss: 4.8321e-05 - accuracy: 1.0000 - val_loss: 1.1678 - val_accuracy: 0.8736\n",
            "Epoch 76/150\n",
            "26/26 [==============================] - 0s 6ms/step - loss: 1.2196e-05 - accuracy: 1.0000 - val_loss: 1.2264 - val_accuracy: 0.8791\n",
            "Epoch 77/150\n",
            "26/26 [==============================] - 0s 7ms/step - loss: 1.7948e-04 - accuracy: 1.0000 - val_loss: 1.1795 - val_accuracy: 0.8764\n",
            "Epoch 78/150\n",
            "26/26 [==============================] - 0s 6ms/step - loss: 1.2793e-04 - accuracy: 1.0000 - val_loss: 1.1893 - val_accuracy: 0.8654\n",
            "Epoch 79/150\n",
            "26/26 [==============================] - 0s 6ms/step - loss: 5.5664e-05 - accuracy: 1.0000 - val_loss: 1.1724 - val_accuracy: 0.8709\n",
            "Epoch 80/150\n",
            "26/26 [==============================] - 0s 7ms/step - loss: 8.0282e-06 - accuracy: 1.0000 - val_loss: 1.1860 - val_accuracy: 0.8764\n",
            "Epoch 81/150\n",
            "26/26 [==============================] - 0s 7ms/step - loss: 1.6679e-05 - accuracy: 1.0000 - val_loss: 1.2037 - val_accuracy: 0.8764\n",
            "Epoch 82/150\n",
            "26/26 [==============================] - 0s 7ms/step - loss: 5.0925e-05 - accuracy: 1.0000 - val_loss: 1.2148 - val_accuracy: 0.8736\n",
            "Epoch 83/150\n",
            "26/26 [==============================] - 0s 7ms/step - loss: 0.0015 - accuracy: 0.9996 - val_loss: 1.1897 - val_accuracy: 0.8791\n",
            "Epoch 84/150\n",
            "26/26 [==============================] - 0s 7ms/step - loss: 2.2394e-05 - accuracy: 1.0000 - val_loss: 1.1604 - val_accuracy: 0.8819\n",
            "Epoch 85/150\n",
            "26/26 [==============================] - 0s 7ms/step - loss: 8.9976e-06 - accuracy: 1.0000 - val_loss: 1.1677 - val_accuracy: 0.8764\n",
            "Epoch 86/150\n",
            "26/26 [==============================] - 0s 7ms/step - loss: 1.4379e-05 - accuracy: 1.0000 - val_loss: 1.2302 - val_accuracy: 0.8681\n",
            "Epoch 87/150\n",
            "26/26 [==============================] - 0s 7ms/step - loss: 9.0126e-06 - accuracy: 1.0000 - val_loss: 1.2087 - val_accuracy: 0.8736\n",
            "Epoch 88/150\n",
            "26/26 [==============================] - 0s 6ms/step - loss: 1.3614e-05 - accuracy: 1.0000 - val_loss: 1.2657 - val_accuracy: 0.8764\n",
            "Epoch 89/150\n",
            "26/26 [==============================] - 0s 7ms/step - loss: 5.3236e-06 - accuracy: 1.0000 - val_loss: 1.3148 - val_accuracy: 0.8846\n",
            "Epoch 90/150\n",
            "26/26 [==============================] - 0s 7ms/step - loss: 0.0056 - accuracy: 0.9961 - val_loss: 1.2999 - val_accuracy: 0.8709\n",
            "Epoch 91/150\n",
            "26/26 [==============================] - 0s 7ms/step - loss: 8.3963e-06 - accuracy: 1.0000 - val_loss: 1.3156 - val_accuracy: 0.8681\n",
            "Epoch 92/150\n",
            "26/26 [==============================] - 0s 7ms/step - loss: 1.2385e-05 - accuracy: 1.0000 - val_loss: 1.2960 - val_accuracy: 0.8764\n",
            "Epoch 93/150\n",
            "26/26 [==============================] - 0s 7ms/step - loss: 3.6489e-06 - accuracy: 1.0000 - val_loss: 1.3201 - val_accuracy: 0.8709\n",
            "Epoch 94/150\n",
            "26/26 [==============================] - 0s 6ms/step - loss: 1.1789e-05 - accuracy: 1.0000 - val_loss: 1.3432 - val_accuracy: 0.8791\n",
            "Epoch 95/150\n",
            "26/26 [==============================] - 0s 7ms/step - loss: 6.7492e-05 - accuracy: 1.0000 - val_loss: 1.3161 - val_accuracy: 0.8709\n",
            "Epoch 96/150\n",
            "26/26 [==============================] - 0s 7ms/step - loss: 4.9112e-05 - accuracy: 1.0000 - val_loss: 1.3082 - val_accuracy: 0.8846\n",
            "Epoch 97/150\n",
            "26/26 [==============================] - 0s 7ms/step - loss: 7.8691e-06 - accuracy: 1.0000 - val_loss: 1.3029 - val_accuracy: 0.8819\n",
            "Epoch 98/150\n",
            "26/26 [==============================] - 0s 7ms/step - loss: 2.5099e-06 - accuracy: 1.0000 - val_loss: 1.3318 - val_accuracy: 0.8764\n",
            "Epoch 99/150\n",
            "26/26 [==============================] - 0s 7ms/step - loss: 6.8882e-06 - accuracy: 1.0000 - val_loss: 1.3675 - val_accuracy: 0.8709\n",
            "Epoch 100/150\n",
            "26/26 [==============================] - 0s 7ms/step - loss: 6.4912e-05 - accuracy: 1.0000 - val_loss: 1.3719 - val_accuracy: 0.8791\n",
            "Epoch 101/150\n",
            "26/26 [==============================] - 0s 10ms/step - loss: 4.4741e-06 - accuracy: 1.0000 - val_loss: 1.3684 - val_accuracy: 0.8736\n",
            "Epoch 102/150\n",
            "26/26 [==============================] - 0s 7ms/step - loss: 1.9169e-06 - accuracy: 1.0000 - val_loss: 1.3909 - val_accuracy: 0.8819\n",
            "Epoch 103/150\n",
            "26/26 [==============================] - 0s 7ms/step - loss: 3.3719e-06 - accuracy: 1.0000 - val_loss: 1.4279 - val_accuracy: 0.8626\n",
            "Epoch 104/150\n",
            "26/26 [==============================] - 0s 7ms/step - loss: 7.6768e-06 - accuracy: 1.0000 - val_loss: 1.5264 - val_accuracy: 0.8901\n",
            "Epoch 105/150\n",
            "26/26 [==============================] - 0s 7ms/step - loss: 2.3106e-05 - accuracy: 1.0000 - val_loss: 1.4484 - val_accuracy: 0.8819\n",
            "Epoch 106/150\n",
            "26/26 [==============================] - 0s 7ms/step - loss: 4.6208e-05 - accuracy: 1.0000 - val_loss: 1.4249 - val_accuracy: 0.8764\n",
            "Epoch 107/150\n",
            "26/26 [==============================] - 0s 7ms/step - loss: 0.0018 - accuracy: 0.9996 - val_loss: 1.4167 - val_accuracy: 0.8764\n",
            "Epoch 108/150\n",
            "26/26 [==============================] - 0s 6ms/step - loss: 7.3490e-06 - accuracy: 1.0000 - val_loss: 1.4163 - val_accuracy: 0.8764\n",
            "Epoch 109/150\n",
            "26/26 [==============================] - 0s 7ms/step - loss: 3.9461e-06 - accuracy: 1.0000 - val_loss: 1.4216 - val_accuracy: 0.8736\n",
            "Epoch 110/150\n",
            "26/26 [==============================] - 0s 6ms/step - loss: 5.2525e-06 - accuracy: 1.0000 - val_loss: 1.4363 - val_accuracy: 0.8709\n",
            "Epoch 111/150\n",
            "26/26 [==============================] - 0s 6ms/step - loss: 2.5765e-06 - accuracy: 1.0000 - val_loss: 1.4406 - val_accuracy: 0.8791\n",
            "Epoch 112/150\n",
            "26/26 [==============================] - 0s 6ms/step - loss: 7.6510e-06 - accuracy: 1.0000 - val_loss: 1.4732 - val_accuracy: 0.8791\n",
            "Epoch 113/150\n",
            "26/26 [==============================] - 0s 7ms/step - loss: 6.3870e-06 - accuracy: 1.0000 - val_loss: 1.5101 - val_accuracy: 0.8764\n",
            "Epoch 114/150\n",
            "26/26 [==============================] - 0s 6ms/step - loss: 2.8583e-05 - accuracy: 1.0000 - val_loss: 1.4544 - val_accuracy: 0.8764\n",
            "Epoch 115/150\n",
            "26/26 [==============================] - 0s 6ms/step - loss: 3.0411e-06 - accuracy: 1.0000 - val_loss: 1.4823 - val_accuracy: 0.8736\n",
            "Epoch 116/150\n",
            "26/26 [==============================] - 0s 6ms/step - loss: 7.1109e-05 - accuracy: 1.0000 - val_loss: 1.4808 - val_accuracy: 0.8819\n",
            "Epoch 117/150\n",
            "26/26 [==============================] - 0s 6ms/step - loss: 1.4722e-06 - accuracy: 1.0000 - val_loss: 1.5399 - val_accuracy: 0.8874\n",
            "Epoch 118/150\n",
            "26/26 [==============================] - 0s 6ms/step - loss: 1.0307e-05 - accuracy: 1.0000 - val_loss: 1.4745 - val_accuracy: 0.8736\n",
            "Epoch 119/150\n",
            "26/26 [==============================] - 0s 6ms/step - loss: 5.9578e-06 - accuracy: 1.0000 - val_loss: 1.5042 - val_accuracy: 0.8736\n",
            "Epoch 120/150\n",
            "26/26 [==============================] - 0s 6ms/step - loss: 6.8906e-07 - accuracy: 1.0000 - val_loss: 1.5429 - val_accuracy: 0.8764\n",
            "Epoch 121/150\n",
            "26/26 [==============================] - 0s 6ms/step - loss: 6.5572e-05 - accuracy: 1.0000 - val_loss: 1.5667 - val_accuracy: 0.8709\n",
            "Epoch 122/150\n",
            "26/26 [==============================] - 0s 6ms/step - loss: 1.3184e-06 - accuracy: 1.0000 - val_loss: 1.5672 - val_accuracy: 0.8819\n",
            "Epoch 123/150\n",
            "26/26 [==============================] - 0s 6ms/step - loss: 7.4514e-07 - accuracy: 1.0000 - val_loss: 1.5783 - val_accuracy: 0.8819\n",
            "Epoch 124/150\n",
            "26/26 [==============================] - 0s 6ms/step - loss: 5.5625e-07 - accuracy: 1.0000 - val_loss: 1.5828 - val_accuracy: 0.8819\n",
            "Epoch 125/150\n",
            "26/26 [==============================] - 0s 6ms/step - loss: 6.2713e-05 - accuracy: 1.0000 - val_loss: 1.5719 - val_accuracy: 0.8819\n",
            "Epoch 126/150\n",
            "26/26 [==============================] - 0s 7ms/step - loss: 2.9304e-06 - accuracy: 1.0000 - val_loss: 1.5912 - val_accuracy: 0.8681\n",
            "Epoch 127/150\n",
            "26/26 [==============================] - 0s 7ms/step - loss: 6.6366e-06 - accuracy: 1.0000 - val_loss: 1.5541 - val_accuracy: 0.8709\n",
            "Epoch 128/150\n",
            "26/26 [==============================] - 0s 6ms/step - loss: 2.6276e-05 - accuracy: 1.0000 - val_loss: 1.5644 - val_accuracy: 0.8709\n",
            "Epoch 129/150\n",
            "26/26 [==============================] - 0s 6ms/step - loss: 7.6939e-06 - accuracy: 1.0000 - val_loss: 1.5798 - val_accuracy: 0.8764\n",
            "Epoch 130/150\n",
            "26/26 [==============================] - 0s 6ms/step - loss: 2.4539e-06 - accuracy: 1.0000 - val_loss: 1.5914 - val_accuracy: 0.8709\n",
            "Epoch 131/150\n",
            "26/26 [==============================] - 0s 6ms/step - loss: 6.4360e-07 - accuracy: 1.0000 - val_loss: 1.5822 - val_accuracy: 0.8736\n",
            "Epoch 132/150\n",
            "26/26 [==============================] - 0s 6ms/step - loss: 1.7096e-06 - accuracy: 1.0000 - val_loss: 1.6038 - val_accuracy: 0.8764\n",
            "Epoch 133/150\n",
            "26/26 [==============================] - 0s 6ms/step - loss: 6.0910e-07 - accuracy: 1.0000 - val_loss: 1.6090 - val_accuracy: 0.8764\n",
            "Epoch 134/150\n",
            "26/26 [==============================] - 0s 7ms/step - loss: 1.5409e-06 - accuracy: 1.0000 - val_loss: 1.6448 - val_accuracy: 0.8764\n",
            "Epoch 135/150\n",
            "26/26 [==============================] - 0s 6ms/step - loss: 8.9178e-07 - accuracy: 1.0000 - val_loss: 1.6459 - val_accuracy: 0.8709\n",
            "Epoch 136/150\n",
            "26/26 [==============================] - 0s 6ms/step - loss: 9.3352e-07 - accuracy: 1.0000 - val_loss: 1.6424 - val_accuracy: 0.8681\n",
            "Epoch 137/150\n",
            "26/26 [==============================] - 0s 7ms/step - loss: 7.6099e-07 - accuracy: 1.0000 - val_loss: 1.6460 - val_accuracy: 0.8764\n",
            "Epoch 138/150\n",
            "26/26 [==============================] - 0s 6ms/step - loss: 1.0666e-05 - accuracy: 1.0000 - val_loss: 1.6776 - val_accuracy: 0.8764\n",
            "Epoch 139/150\n",
            "26/26 [==============================] - 0s 7ms/step - loss: 2.3612e-07 - accuracy: 1.0000 - val_loss: 1.6896 - val_accuracy: 0.8681\n",
            "Epoch 140/150\n",
            "26/26 [==============================] - 0s 6ms/step - loss: 4.7397e-07 - accuracy: 1.0000 - val_loss: 1.7249 - val_accuracy: 0.8791\n",
            "Epoch 141/150\n",
            "26/26 [==============================] - 0s 6ms/step - loss: 3.8801e-07 - accuracy: 1.0000 - val_loss: 1.6939 - val_accuracy: 0.8764\n",
            "Epoch 142/150\n",
            "26/26 [==============================] - 0s 6ms/step - loss: 7.3627e-07 - accuracy: 1.0000 - val_loss: 1.7290 - val_accuracy: 0.8599\n",
            "Epoch 143/150\n",
            "26/26 [==============================] - 0s 6ms/step - loss: 6.0159e-07 - accuracy: 1.0000 - val_loss: 1.7513 - val_accuracy: 0.8626\n",
            "Epoch 144/150\n",
            "26/26 [==============================] - 0s 7ms/step - loss: 9.7590e-07 - accuracy: 1.0000 - val_loss: 1.7675 - val_accuracy: 0.8819\n",
            "Epoch 145/150\n",
            "26/26 [==============================] - 0s 7ms/step - loss: 2.6667e-07 - accuracy: 1.0000 - val_loss: 1.6647 - val_accuracy: 0.8709\n",
            "Epoch 146/150\n",
            "26/26 [==============================] - 0s 7ms/step - loss: 3.0690e-07 - accuracy: 1.0000 - val_loss: 1.7010 - val_accuracy: 0.8791\n",
            "Epoch 147/150\n",
            "26/26 [==============================] - 0s 10ms/step - loss: 1.3152e-05 - accuracy: 1.0000 - val_loss: 1.6955 - val_accuracy: 0.8736\n",
            "Epoch 148/150\n",
            "26/26 [==============================] - 0s 7ms/step - loss: 1.5523e-06 - accuracy: 1.0000 - val_loss: 1.7206 - val_accuracy: 0.8736\n",
            "Epoch 149/150\n",
            "26/26 [==============================] - 0s 7ms/step - loss: 2.9427e-05 - accuracy: 1.0000 - val_loss: 1.7118 - val_accuracy: 0.8764\n",
            "Epoch 150/150\n",
            "26/26 [==============================] - 0s 7ms/step - loss: 2.4558e-07 - accuracy: 1.0000 - val_loss: 1.7098 - val_accuracy: 0.8709\n"
          ],
          "name": "stdout"
        }
      ]
    },
    {
      "cell_type": "code",
      "metadata": {
        "id": "P0Fk-e8wA3jd",
        "colab": {
          "base_uri": "https://localhost:8080/",
          "height": 296
        },
        "outputId": "0534c55f-5984-4723-d49e-0a251368b263"
      },
      "source": [
        "f, (ax1, ax2) = plt.subplots(1, 2, figsize=(12, 4))\n",
        "t = f.suptitle('Pre-trained CNN (Transfer Learning) Performance', fontsize=12)\n",
        "f.subplots_adjust(top=0.85, wspace=0.3)\n",
        "\n",
        "epoch_list = list(range(1,151))\n",
        "ax1.plot(epoch_list, history.history['accuracy'], label='Train Accuracy')\n",
        "ax1.plot(epoch_list, history.history['val_accuracy'], label='Validation Accuracy')\n",
        "ax1.set_xticks(np.arange(0, 151, 5))\n",
        "ax1.set_ylabel('Accuracy Value')\n",
        "ax1.set_xlabel('Epoch')\n",
        "ax1.set_title('Accuracy')\n",
        "l1 = ax1.legend(loc=\"best\")\n",
        "\n",
        "ax2.plot(epoch_list, history.history['loss'], label='Train Loss')\n",
        "ax2.plot(epoch_list, history.history['val_loss'], label='Validation Loss')\n",
        "ax2.set_xticks(np.arange(0, 151, 5))\n",
        "ax2.set_ylabel('Loss Value')\n",
        "ax2.set_xlabel('Epoch')\n",
        "ax2.set_title('Loss')\n",
        "l2 = ax2.legend(loc=\"best\")"
      ],
      "execution_count": 18,
      "outputs": [
        {
          "output_type": "display_data",
          "data": {
            "image/png": "[encoded data removed]",
            "text/plain": [
              "<Figure size 864x288 with 2 Axes>"
            ]
          },
          "metadata": {
            "tags": [],
            "needs_background": "light"
          }
        }
      ]
    },
    {
      "cell_type": "code",
      "metadata": {
        "id": "wHLV0XfKA3jd"
      },
      "source": [
        "model.save('1-flower.h5')"
      ],
      "execution_count": 19,
      "outputs": []
    },
    {
      "cell_type": "code",
      "metadata": {
        "id": "eBjX3kbpA3je"
      },
      "source": [
        ""
      ],
      "execution_count": null,
      "outputs": []
    },
    {
      "cell_type": "code",
      "metadata": {
        "id": "3IaOWSbaA3je"
      },
      "source": [
        ""
      ],
      "execution_count": null,
      "outputs": []
    },
    {
      "cell_type": "code",
      "metadata": {
        "id": "Q7SzUeawA3jn"
      },
      "source": [
        ""
      ],
      "execution_count": null,
      "outputs": []
    }
  ]
}