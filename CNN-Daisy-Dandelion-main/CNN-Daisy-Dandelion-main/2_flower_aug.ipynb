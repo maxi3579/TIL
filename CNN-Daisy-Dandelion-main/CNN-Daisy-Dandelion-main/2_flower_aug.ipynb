{
  "nbformat": 4,
  "nbformat_minor": 0,
  "metadata": {
    "kernelspec": {
      "display_name": "Python 3",
      "language": "python",
      "name": "python3"
    },
    "language_info": {
      "codemirror_mode": {
        "name": "ipython",
        "version": 3
      },
      "file_extension": ".py",
      "mimetype": "text/x-python",
      "name": "python",
      "nbconvert_exporter": "python",
      "pygments_lexer": "ipython3",
      "version": "3.7.6"
    },
    "colab": {
      "name": "4-2-aug-pretrained.ipynb",
      "provenance": [],
      "collapsed_sections": [],
      "include_colab_link": true
    },
    "accelerator": "GPU"
  },
  "cells": [
    {
      "cell_type": "markdown",
      "metadata": {
        "id": "view-in-github",
        "colab_type": "text"
      },
      "source": [
        "<a href=\"https://colab.research.google.com/github/JSJeong-me/CNN-Daisy-Dandelion/blob/main/2_flower_aug.ipynb\" target=\"_parent\"><img src=\"https://colab.research.google.com/assets/colab-badge.svg\" alt=\"Open In Colab\"/></a>"
      ]
    },
    {
      "cell_type": "code",
      "metadata": {
        "colab": {
          "base_uri": "https://localhost:8080/"
        },
        "id": "22mg_PXnCKsU",
        "outputId": "2e9cb2cc-9525-430e-a15f-032e5bb3eb4f"
      },
      "source": [
        "from google.colab import drive\n",
        "drive.mount('/content/drive')"
      ],
      "execution_count": 4,
      "outputs": [
        {
          "output_type": "stream",
          "text": [
            "Mounted at /content/drive\n"
          ],
          "name": "stdout"
        }
      ]
    },
    {
      "cell_type": "code",
      "metadata": {
        "id": "6giq8ls1A3jN"
      },
      "source": [
        "%matplotlib inline"
      ],
      "execution_count": 5,
      "outputs": []
    },
    {
      "cell_type": "code",
      "metadata": {
        "id": "B9GBtXmwA47m",
        "colab": {
          "base_uri": "https://localhost:8080/"
        },
        "outputId": "efe98688-bcbd-4c24-8ea4-10079e5dc5b0"
      },
      "source": [
        "!ls -l"
      ],
      "execution_count": 6,
      "outputs": [
        {
          "output_type": "stream",
          "text": [
            "total 8\n",
            "drwx------ 5 root root 4096 Jan 25 07:02 drive\n",
            "drwxr-xr-x 1 root root 4096 Jan 20 17:27 sample_data\n"
          ],
          "name": "stdout"
        }
      ]
    },
    {
      "cell_type": "code",
      "metadata": {
        "id": "FWj06i8uA6OO"
      },
      "source": [
        "!cp ./drive/MyDrive/flower.zip ."
      ],
      "execution_count": 7,
      "outputs": []
    },
    {
      "cell_type": "code",
      "metadata": {
        "id": "AEJfrotXA58E"
      },
      "source": [
        "!unzip flower.zip\r\n"
      ],
      "execution_count": null,
      "outputs": []
    },
    {
      "cell_type": "code",
      "metadata": {
        "id": "O5M05p_pA5rd"
      },
      "source": [
        ""
      ],
      "execution_count": null,
      "outputs": []
    },
    {
      "cell_type": "code",
      "metadata": {
        "id": "KPy5I5SBA3jW"
      },
      "source": [
        "import glob\n",
        "import numpy as np\n",
        "import matplotlib.pyplot as plt\n",
        "from tensorflow.keras.preprocessing.image import ImageDataGenerator, load_img, img_to_array, array_to_img"
      ],
      "execution_count": 9,
      "outputs": []
    },
    {
      "cell_type": "code",
      "metadata": {
        "id": "eZImnfGOA3jX",
        "colab": {
          "base_uri": "https://localhost:8080/"
        },
        "outputId": "d5254e30-f76a-4c73-8245-78322428e691"
      },
      "source": [
        "IMG_DIM = (150, 150)\n",
        "\n",
        "train_files = glob.glob('training_data/*')\n",
        "train_imgs = [img_to_array(load_img(img, target_size=IMG_DIM)) for img in train_files]\n",
        "train_imgs = np.array(train_imgs)\n",
        "train_labels = [fn.split('/')[1].split('.')[0].strip() for fn in train_files]\n",
        "\n",
        "validation_files = glob.glob('validation_data/*')\n",
        "validation_imgs = [img_to_array(load_img(img, target_size=IMG_DIM)) for img in validation_files]\n",
        "validation_imgs = np.array(validation_imgs)\n",
        "validation_labels = [fn.split('/')[1].split('.')[0].strip() for fn in validation_files]\n",
        "\n",
        "print('Train dataset shape:', train_imgs.shape, \n",
        "      '\\tValidation dataset shape:', validation_imgs.shape)"
      ],
      "execution_count": 10,
      "outputs": [
        {
          "output_type": "stream",
          "text": [
            "Train dataset shape: (1275, 150, 150, 3) \tValidation dataset shape: (364, 150, 150, 3)\n"
          ],
          "name": "stdout"
        }
      ]
    },
    {
      "cell_type": "code",
      "metadata": {
        "id": "OiDa5o60A3jX"
      },
      "source": [
        "train_imgs_scaled = train_imgs.astype('float32')\n",
        "validation_imgs_scaled = validation_imgs.astype('float32')\n",
        "train_imgs_scaled /= 255\n",
        "validation_imgs_scaled /= 255"
      ],
      "execution_count": 11,
      "outputs": []
    },
    {
      "cell_type": "code",
      "metadata": {
        "id": "COLKZn79A3jY",
        "colab": {
          "base_uri": "https://localhost:8080/"
        },
        "outputId": "54712a0c-4659-4713-f007-53b3efed1774"
      },
      "source": [
        "batch_size = 50\n",
        "num_classes = 2\n",
        "epochs = 150\n",
        "input_shape = (150, 150, 3)\n",
        "\n",
        "from sklearn.preprocessing import LabelEncoder\n",
        "\n",
        "le = LabelEncoder()\n",
        "le.fit(train_labels)\n",
        "# encode wine type labels\n",
        "train_labels_enc = le.transform(train_labels)\n",
        "validation_labels_enc = le.transform(validation_labels)\n",
        "\n",
        "print(train_labels[0:5], train_labels_enc[0:5])"
      ],
      "execution_count": 12,
      "outputs": [
        {
          "output_type": "stream",
          "text": [
            "['daisy', 'dandelion', 'dandelion', 'daisy', 'dandelion'] [0 1 1 0 1]\n"
          ],
          "name": "stdout"
        }
      ]
    },
    {
      "cell_type": "code",
      "metadata": {
        "id": "Ieppy25xFE_N"
      },
      "source": [
        ""
      ],
      "execution_count": null,
      "outputs": []
    },
    {
      "cell_type": "code",
      "metadata": {
        "id": "j0wF41XlFEu9"
      },
      "source": [
        "train_datagen = ImageDataGenerator(rescale=1./255, zoom_range=0.3, rotation_range=50,  # rescale=1./255,\r\n",
        "                                   width_shift_range=0.2, height_shift_range=0.2, shear_range=0.2, \r\n",
        "                                   horizontal_flip=True, fill_mode='nearest')\r\n",
        "\r\n",
        "val_datagen = ImageDataGenerator(rescale=1./255) # rescale=1./255\r\n",
        "\r\n",
        "train_generator = train_datagen.flow(train_imgs, train_labels_enc, batch_size=30)\r\n",
        "val_generator = val_datagen.flow(validation_imgs, validation_labels_enc, batch_size=20)"
      ],
      "execution_count": 13,
      "outputs": []
    },
    {
      "cell_type": "code",
      "metadata": {
        "id": "wDDCzCWzFEDf"
      },
      "source": [
        ""
      ],
      "execution_count": null,
      "outputs": []
    },
    {
      "cell_type": "code",
      "metadata": {
        "id": "9fVVMivMA3jZ",
        "colab": {
          "base_uri": "https://localhost:8080/"
        },
        "outputId": "da57af24-b39f-4ae8-e973-d9c35ede7914"
      },
      "source": [
        "\n",
        "from tensorflow.keras.applications import vgg16\n",
        "from tensorflow.keras.models import Model\n",
        "import tensorflow.keras\n",
        "\n",
        "vgg = vgg16.VGG16(include_top=False, weights='imagenet',\n",
        "                                     input_shape=input_shape)\n",
        "\n",
        "output = vgg.layers[-1].output\n",
        "output = tensorflow.keras.layers.Flatten()(output)\n",
        "\n",
        "vgg_model = Model(vgg.input, output)\n",
        "vgg_model.trainable = False\n",
        "\n",
        "for layer in vgg_model.layers:\n",
        "    layer.trainable = False\n",
        "\n",
        "vgg_model.summary()\n"
      ],
      "execution_count": 14,
      "outputs": [
        {
          "output_type": "stream",
          "text": [
            "Downloading data from https://storage.googleapis.com/tensorflow/keras-applications/vgg16/vgg16_weights_tf_dim_ordering_tf_kernels_notop.h5\n",
            "58892288/58889256 [==============================] - 0s 0us/step\n",
            "Model: \"model\"\n",
            "_________________________________________________________________\n",
            "Layer (type)                 Output Shape              Param #   \n",
            "=================================================================\n",
            "input_1 (InputLayer)         [(None, 150, 150, 3)]     0         \n",
            "_________________________________________________________________\n",
            "block1_conv1 (Conv2D)        (None, 150, 150, 64)      1792      \n",
            "_________________________________________________________________\n",
            "block1_conv2 (Conv2D)        (None, 150, 150, 64)      36928     \n",
            "_________________________________________________________________\n",
            "block1_pool (MaxPooling2D)   (None, 75, 75, 64)        0         \n",
            "_________________________________________________________________\n",
            "block2_conv1 (Conv2D)        (None, 75, 75, 128)       73856     \n",
            "_________________________________________________________________\n",
            "block2_conv2 (Conv2D)        (None, 75, 75, 128)       147584    \n",
            "_________________________________________________________________\n",
            "block2_pool (MaxPooling2D)   (None, 37, 37, 128)       0         \n",
            "_________________________________________________________________\n",
            "block3_conv1 (Conv2D)        (None, 37, 37, 256)       295168    \n",
            "_________________________________________________________________\n",
            "block3_conv2 (Conv2D)        (None, 37, 37, 256)       590080    \n",
            "_________________________________________________________________\n",
            "block3_conv3 (Conv2D)        (None, 37, 37, 256)       590080    \n",
            "_________________________________________________________________\n",
            "block3_pool (MaxPooling2D)   (None, 18, 18, 256)       0         \n",
            "_________________________________________________________________\n",
            "block4_conv1 (Conv2D)        (None, 18, 18, 512)       1180160   \n",
            "_________________________________________________________________\n",
            "block4_conv2 (Conv2D)        (None, 18, 18, 512)       2359808   \n",
            "_________________________________________________________________\n",
            "block4_conv3 (Conv2D)        (None, 18, 18, 512)       2359808   \n",
            "_________________________________________________________________\n",
            "block4_pool (MaxPooling2D)   (None, 9, 9, 512)         0         \n",
            "_________________________________________________________________\n",
            "block5_conv1 (Conv2D)        (None, 9, 9, 512)         2359808   \n",
            "_________________________________________________________________\n",
            "block5_conv2 (Conv2D)        (None, 9, 9, 512)         2359808   \n",
            "_________________________________________________________________\n",
            "block5_conv3 (Conv2D)        (None, 9, 9, 512)         2359808   \n",
            "_________________________________________________________________\n",
            "block5_pool (MaxPooling2D)   (None, 4, 4, 512)         0         \n",
            "_________________________________________________________________\n",
            "flatten (Flatten)            (None, 8192)              0         \n",
            "=================================================================\n",
            "Total params: 14,714,688\n",
            "Trainable params: 0\n",
            "Non-trainable params: 14,714,688\n",
            "_________________________________________________________________\n"
          ],
          "name": "stdout"
        }
      ]
    },
    {
      "cell_type": "code",
      "metadata": {
        "id": "T9SDjC3EA3jZ",
        "colab": {
          "base_uri": "https://localhost:8080/",
          "height": 719
        },
        "outputId": "2a4919ff-3c01-4f7d-f346-72ac7f589af3"
      },
      "source": [
        "import pandas as pd\n",
        "pd.set_option('max_colwidth', -1)\n",
        "\n",
        "layers = [(layer, layer.name, layer.trainable) for layer in vgg_model.layers]\n",
        "pd.DataFrame(layers, columns=['Layer Type', 'Layer Name', 'Layer Trainable'])"
      ],
      "execution_count": 15,
      "outputs": [
        {
          "output_type": "stream",
          "text": [
            "/usr/local/lib/python3.6/dist-packages/ipykernel_launcher.py:2: FutureWarning: Passing a negative integer is deprecated in version 1.0 and will not be supported in future version. Instead, use None to not limit the column width.\n",
            "  \n"
          ],
          "name": "stderr"
        },
        {
          "output_type": "execute_result",
          "data": {
            "text/html": [
              "<div>\n",
              "<style scoped>\n",
              "    .dataframe tbody tr th:only-of-type {\n",
              "        vertical-align: middle;\n",
              "    }\n",
              "\n",
              "    .dataframe tbody tr th {\n",
              "        vertical-align: top;\n",
              "    }\n",
              "\n",
              "    .dataframe thead th {\n",
              "        text-align: right;\n",
              "    }\n",
              "</style>\n",
              "<table border=\"1\" class=\"dataframe\">\n",
              "  <thead>\n",
              "    <tr style=\"text-align: right;\">\n",
              "      <th></th>\n",
              "      <th>Layer Type</th>\n",
              "      <th>Layer Name</th>\n",
              "      <th>Layer Trainable</th>\n",
              "    </tr>\n",
              "  </thead>\n",
              "  <tbody>\n",
              "    <tr>\n",
              "      <th>0</th>\n",
              "      <td>&lt;tensorflow.python.keras.engine.input_layer.InputLayer object at 0x7f016d225710&gt;</td>\n",
              "      <td>input_1</td>\n",
              "      <td>False</td>\n",
              "    </tr>\n",
              "    <tr>\n",
              "      <th>1</th>\n",
              "      <td>&lt;tensorflow.python.keras.layers.convolutional.Conv2D object at 0x7f016cfadda0&gt;</td>\n",
              "      <td>block1_conv1</td>\n",
              "      <td>False</td>\n",
              "    </tr>\n",
              "    <tr>\n",
              "      <th>2</th>\n",
              "      <td>&lt;tensorflow.python.keras.layers.convolutional.Conv2D object at 0x7f016c767f60&gt;</td>\n",
              "      <td>block1_conv2</td>\n",
              "      <td>False</td>\n",
              "    </tr>\n",
              "    <tr>\n",
              "      <th>3</th>\n",
              "      <td>&lt;tensorflow.python.keras.layers.pooling.MaxPooling2D object at 0x7f016c726f60&gt;</td>\n",
              "      <td>block1_pool</td>\n",
              "      <td>False</td>\n",
              "    </tr>\n",
              "    <tr>\n",
              "      <th>4</th>\n",
              "      <td>&lt;tensorflow.python.keras.layers.convolutional.Conv2D object at 0x7f016c747208&gt;</td>\n",
              "      <td>block2_conv1</td>\n",
              "      <td>False</td>\n",
              "    </tr>\n",
              "    <tr>\n",
              "      <th>5</th>\n",
              "      <td>&lt;tensorflow.python.keras.layers.convolutional.Conv2D object at 0x7f016c747860&gt;</td>\n",
              "      <td>block2_conv2</td>\n",
              "      <td>False</td>\n",
              "    </tr>\n",
              "    <tr>\n",
              "      <th>6</th>\n",
              "      <td>&lt;tensorflow.python.keras.layers.pooling.MaxPooling2D object at 0x7f016036d8d0&gt;</td>\n",
              "      <td>block2_pool</td>\n",
              "      <td>False</td>\n",
              "    </tr>\n",
              "    <tr>\n",
              "      <th>7</th>\n",
              "      <td>&lt;tensorflow.python.keras.layers.convolutional.Conv2D object at 0x7f016036e358&gt;</td>\n",
              "      <td>block3_conv1</td>\n",
              "      <td>False</td>\n",
              "    </tr>\n",
              "    <tr>\n",
              "      <th>8</th>\n",
              "      <td>&lt;tensorflow.python.keras.layers.convolutional.Conv2D object at 0x7f016037a400&gt;</td>\n",
              "      <td>block3_conv2</td>\n",
              "      <td>False</td>\n",
              "    </tr>\n",
              "    <tr>\n",
              "      <th>9</th>\n",
              "      <td>&lt;tensorflow.python.keras.layers.convolutional.Conv2D object at 0x7f0160384908&gt;</td>\n",
              "      <td>block3_conv3</td>\n",
              "      <td>False</td>\n",
              "    </tr>\n",
              "    <tr>\n",
              "      <th>10</th>\n",
              "      <td>&lt;tensorflow.python.keras.layers.pooling.MaxPooling2D object at 0x7f01603847f0&gt;</td>\n",
              "      <td>block3_pool</td>\n",
              "      <td>False</td>\n",
              "    </tr>\n",
              "    <tr>\n",
              "      <th>11</th>\n",
              "      <td>&lt;tensorflow.python.keras.layers.convolutional.Conv2D object at 0x7f016038b2e8&gt;</td>\n",
              "      <td>block4_conv1</td>\n",
              "      <td>False</td>\n",
              "    </tr>\n",
              "    <tr>\n",
              "      <th>12</th>\n",
              "      <td>&lt;tensorflow.python.keras.layers.convolutional.Conv2D object at 0x7f016038bf98&gt;</td>\n",
              "      <td>block4_conv2</td>\n",
              "      <td>False</td>\n",
              "    </tr>\n",
              "    <tr>\n",
              "      <th>13</th>\n",
              "      <td>&lt;tensorflow.python.keras.layers.convolutional.Conv2D object at 0x7f016038f978&gt;</td>\n",
              "      <td>block4_conv3</td>\n",
              "      <td>False</td>\n",
              "    </tr>\n",
              "    <tr>\n",
              "      <th>14</th>\n",
              "      <td>&lt;tensorflow.python.keras.layers.pooling.MaxPooling2D object at 0x7f016037a6a0&gt;</td>\n",
              "      <td>block4_pool</td>\n",
              "      <td>False</td>\n",
              "    </tr>\n",
              "    <tr>\n",
              "      <th>15</th>\n",
              "      <td>&lt;tensorflow.python.keras.layers.convolutional.Conv2D object at 0x7f0160390f98&gt;</td>\n",
              "      <td>block5_conv1</td>\n",
              "      <td>False</td>\n",
              "    </tr>\n",
              "    <tr>\n",
              "      <th>16</th>\n",
              "      <td>&lt;tensorflow.python.keras.layers.convolutional.Conv2D object at 0x7f016039ac88&gt;</td>\n",
              "      <td>block5_conv2</td>\n",
              "      <td>False</td>\n",
              "    </tr>\n",
              "    <tr>\n",
              "      <th>17</th>\n",
              "      <td>&lt;tensorflow.python.keras.layers.convolutional.Conv2D object at 0x7f01603a2358&gt;</td>\n",
              "      <td>block5_conv3</td>\n",
              "      <td>False</td>\n",
              "    </tr>\n",
              "    <tr>\n",
              "      <th>18</th>\n",
              "      <td>&lt;tensorflow.python.keras.layers.pooling.MaxPooling2D object at 0x7f01603a8940&gt;</td>\n",
              "      <td>block5_pool</td>\n",
              "      <td>False</td>\n",
              "    </tr>\n",
              "    <tr>\n",
              "      <th>19</th>\n",
              "      <td>&lt;tensorflow.python.keras.layers.core.Flatten object at 0x7f01603a82b0&gt;</td>\n",
              "      <td>flatten</td>\n",
              "      <td>False</td>\n",
              "    </tr>\n",
              "  </tbody>\n",
              "</table>\n",
              "</div>"
            ],
            "text/plain": [
              "                                                                          Layer Type  ... Layer Trainable\n",
              "0   <tensorflow.python.keras.engine.input_layer.InputLayer object at 0x7f016d225710>  ...  False         \n",
              "1   <tensorflow.python.keras.layers.convolutional.Conv2D object at 0x7f016cfadda0>    ...  False         \n",
              "2   <tensorflow.python.keras.layers.convolutional.Conv2D object at 0x7f016c767f60>    ...  False         \n",
              "3   <tensorflow.python.keras.layers.pooling.MaxPooling2D object at 0x7f016c726f60>    ...  False         \n",
              "4   <tensorflow.python.keras.layers.convolutional.Conv2D object at 0x7f016c747208>    ...  False         \n",
              "5   <tensorflow.python.keras.layers.convolutional.Conv2D object at 0x7f016c747860>    ...  False         \n",
              "6   <tensorflow.python.keras.layers.pooling.MaxPooling2D object at 0x7f016036d8d0>    ...  False         \n",
              "7   <tensorflow.python.keras.layers.convolutional.Conv2D object at 0x7f016036e358>    ...  False         \n",
              "8   <tensorflow.python.keras.layers.convolutional.Conv2D object at 0x7f016037a400>    ...  False         \n",
              "9   <tensorflow.python.keras.layers.convolutional.Conv2D object at 0x7f0160384908>    ...  False         \n",
              "10  <tensorflow.python.keras.layers.pooling.MaxPooling2D object at 0x7f01603847f0>    ...  False         \n",
              "11  <tensorflow.python.keras.layers.convolutional.Conv2D object at 0x7f016038b2e8>    ...  False         \n",
              "12  <tensorflow.python.keras.layers.convolutional.Conv2D object at 0x7f016038bf98>    ...  False         \n",
              "13  <tensorflow.python.keras.layers.convolutional.Conv2D object at 0x7f016038f978>    ...  False         \n",
              "14  <tensorflow.python.keras.layers.pooling.MaxPooling2D object at 0x7f016037a6a0>    ...  False         \n",
              "15  <tensorflow.python.keras.layers.convolutional.Conv2D object at 0x7f0160390f98>    ...  False         \n",
              "16  <tensorflow.python.keras.layers.convolutional.Conv2D object at 0x7f016039ac88>    ...  False         \n",
              "17  <tensorflow.python.keras.layers.convolutional.Conv2D object at 0x7f01603a2358>    ...  False         \n",
              "18  <tensorflow.python.keras.layers.pooling.MaxPooling2D object at 0x7f01603a8940>    ...  False         \n",
              "19  <tensorflow.python.keras.layers.core.Flatten object at 0x7f01603a82b0>            ...  False         \n",
              "\n",
              "[20 rows x 3 columns]"
            ]
          },
          "metadata": {
            "tags": []
          },
          "execution_count": 15
        }
      ]
    },
    {
      "cell_type": "code",
      "metadata": {
        "id": "OvJvrtrgA3ja",
        "colab": {
          "base_uri": "https://localhost:8080/"
        },
        "outputId": "0900fe6d-fecf-4694-b2b0-4d0f54a60c17"
      },
      "source": [
        "print(\"Trainable layers:\", vgg_model.trainable_weights)"
      ],
      "execution_count": 16,
      "outputs": [
        {
          "output_type": "stream",
          "text": [
            "Trainable layers: []\n"
          ],
          "name": "stdout"
        }
      ]
    },
    {
      "cell_type": "code",
      "metadata": {
        "id": "J_Zbyst4A3ja",
        "colab": {
          "base_uri": "https://localhost:8080/",
          "height": 307
        },
        "outputId": "af4d6991-2a04-4983-dbfb-1fe870f00e64"
      },
      "source": [
        "bottleneck_feature_example = vgg.predict(train_imgs_scaled[0:1])\n",
        "print(bottleneck_feature_example.shape)\n",
        "plt.imshow(bottleneck_feature_example[0][:,:,0])"
      ],
      "execution_count": 17,
      "outputs": [
        {
          "output_type": "stream",
          "text": [
            "(1, 4, 4, 512)\n"
          ],
          "name": "stdout"
        },
        {
          "output_type": "execute_result",
          "data": {
            "text/plain": [
              "<matplotlib.image.AxesImage at 0x7f01140b3e48>"
            ]
          },
          "metadata": {
            "tags": []
          },
          "execution_count": 17
        },
        {
          "output_type": "display_data",
          "data": {
            "image/png": "[encoded data removed]",
            "text/plain": [
              "<Figure size 432x288 with 1 Axes>"
            ]
          },
          "metadata": {
            "tags": [],
            "needs_background": "light"
          }
        }
      ]
    },
    {
      "cell_type": "code",
      "metadata": {
        "id": "_8LY2OOaA3jb"
      },
      "source": [
        "def get_bottleneck_features(model, input_imgs):\n",
        "    \n",
        "    features = model.predict(input_imgs, verbose=0)\n",
        "    return features"
      ],
      "execution_count": 18,
      "outputs": []
    },
    {
      "cell_type": "code",
      "metadata": {
        "id": "8sekjWocA3jb",
        "colab": {
          "base_uri": "https://localhost:8080/"
        },
        "outputId": "930c4e34-125e-4c51-8e6c-39e7f56cdff1"
      },
      "source": [
        "train_features_vgg = get_bottleneck_features(vgg_model, train_imgs_scaled)\n",
        "validation_features_vgg = get_bottleneck_features(vgg_model, validation_imgs_scaled)\n",
        "\n",
        "print('Train Bottleneck Features:', train_features_vgg.shape, \n",
        "      '\\tValidation Bottleneck Features:', validation_features_vgg.shape)"
      ],
      "execution_count": 19,
      "outputs": [
        {
          "output_type": "stream",
          "text": [
            "Train Bottleneck Features: (1275, 8192) \tValidation Bottleneck Features: (364, 8192)\n"
          ],
          "name": "stdout"
        }
      ]
    },
    {
      "cell_type": "code",
      "metadata": {
        "id": "unerLhrzF2HL"
      },
      "source": [
        ""
      ],
      "execution_count": null,
      "outputs": []
    },
    {
      "cell_type": "code",
      "metadata": {
        "id": "qyFijnDhGBjn",
        "colab": {
          "base_uri": "https://localhost:8080/"
        },
        "outputId": "7ff06726-ce42-423c-d97d-eee2eaada644"
      },
      "source": [
        "from tensorflow.keras.layers import Conv2D, MaxPooling2D, Flatten, Dense, Dropout, InputLayer\r\n",
        "from tensorflow.keras.models import Sequential\r\n",
        "from tensorflow.keras import optimizers\r\n",
        "\r\n",
        "model = Sequential()\r\n",
        "model.add(vgg_model)\r\n",
        "model.add(Dense(512, activation='relu', input_dim=input_shape))\r\n",
        "model.add(Dropout(0.3))\r\n",
        "model.add(Dense(64, activation='relu'))\r\n",
        "model.add(Dropout(0.3))\r\n",
        "model.add(Dense(1, activation='sigmoid'))\r\n",
        "\r\n",
        "model.compile(loss='binary_crossentropy',\r\n",
        "              optimizer=optimizers.RMSprop(lr=2e-5),\r\n",
        "              metrics=['accuracy'])\r\n",
        "\r\n",
        "model.summary()"
      ],
      "execution_count": 20,
      "outputs": [
        {
          "output_type": "stream",
          "text": [
            "Model: \"sequential\"\n",
            "_________________________________________________________________\n",
            "Layer (type)                 Output Shape              Param #   \n",
            "=================================================================\n",
            "model (Functional)           (None, 8192)              14714688  \n",
            "_________________________________________________________________\n",
            "dense (Dense)                (None, 512)               4194816   \n",
            "_________________________________________________________________\n",
            "dropout (Dropout)            (None, 512)               0         \n",
            "_________________________________________________________________\n",
            "dense_1 (Dense)              (None, 64)                32832     \n",
            "_________________________________________________________________\n",
            "dropout_1 (Dropout)          (None, 64)                0         \n",
            "_________________________________________________________________\n",
            "dense_2 (Dense)              (None, 1)                 65        \n",
            "=================================================================\n",
            "Total params: 18,942,401\n",
            "Trainable params: 4,227,713\n",
            "Non-trainable params: 14,714,688\n",
            "_________________________________________________________________\n"
          ],
          "name": "stdout"
        }
      ]
    },
    {
      "cell_type": "code",
      "metadata": {
        "id": "oXhFf4HLA3jc",
        "colab": {
          "base_uri": "https://localhost:8080/"
        },
        "outputId": "57a24a6f-1223-49ff-ea23-043c062afe38"
      },
      "source": [
        "history = model.fit_generator(train_generator,  epochs=epochs,\r\n",
        "                              validation_data=val_generator,  verbose=1)"
      ],
      "execution_count": 21,
      "outputs": [
        {
          "output_type": "stream",
          "text": [
            "/usr/local/lib/python3.6/dist-packages/tensorflow/python/keras/engine/training.py:1844: UserWarning: `Model.fit_generator` is deprecated and will be removed in a future version. Please use `Model.fit`, which supports generators.\n",
            "  warnings.warn('`Model.fit_generator` is deprecated and '\n"
          ],
          "name": "stderr"
        },
        {
          "output_type": "stream",
          "text": [
            "Epoch 1/150\n",
            "43/43 [==============================] - 11s 217ms/step - loss: 0.6787 - accuracy: 0.6165 - val_loss: 0.5153 - val_accuracy: 0.7637\n",
            "Epoch 2/150\n",
            "43/43 [==============================] - 8s 180ms/step - loss: 0.5485 - accuracy: 0.7227 - val_loss: 0.4478 - val_accuracy: 0.8049\n",
            "Epoch 3/150\n",
            "43/43 [==============================] - 8s 176ms/step - loss: 0.5132 - accuracy: 0.7395 - val_loss: 0.4091 - val_accuracy: 0.8242\n",
            "Epoch 4/150\n",
            "43/43 [==============================] - 8s 177ms/step - loss: 0.4458 - accuracy: 0.7876 - val_loss: 0.3800 - val_accuracy: 0.8324\n",
            "Epoch 5/150\n",
            "43/43 [==============================] - 8s 177ms/step - loss: 0.4027 - accuracy: 0.8014 - val_loss: 0.3591 - val_accuracy: 0.8516\n",
            "Epoch 6/150\n",
            "43/43 [==============================] - 8s 177ms/step - loss: 0.4088 - accuracy: 0.8204 - val_loss: 0.3497 - val_accuracy: 0.8462\n",
            "Epoch 7/150\n",
            "43/43 [==============================] - 8s 178ms/step - loss: 0.3722 - accuracy: 0.8273 - val_loss: 0.3325 - val_accuracy: 0.8654\n",
            "Epoch 8/150\n",
            "43/43 [==============================] - 8s 176ms/step - loss: 0.3490 - accuracy: 0.8376 - val_loss: 0.3257 - val_accuracy: 0.8709\n",
            "Epoch 9/150\n",
            "43/43 [==============================] - 8s 176ms/step - loss: 0.3634 - accuracy: 0.8237 - val_loss: 0.3276 - val_accuracy: 0.8654\n",
            "Epoch 10/150\n",
            "43/43 [==============================] - 8s 179ms/step - loss: 0.3293 - accuracy: 0.8580 - val_loss: 0.3157 - val_accuracy: 0.8764\n",
            "Epoch 11/150\n",
            "43/43 [==============================] - 8s 177ms/step - loss: 0.3391 - accuracy: 0.8485 - val_loss: 0.3123 - val_accuracy: 0.8681\n",
            "Epoch 12/150\n",
            "43/43 [==============================] - 8s 178ms/step - loss: 0.3594 - accuracy: 0.8273 - val_loss: 0.3108 - val_accuracy: 0.8791\n",
            "Epoch 13/150\n",
            "43/43 [==============================] - 8s 175ms/step - loss: 0.3069 - accuracy: 0.8572 - val_loss: 0.3060 - val_accuracy: 0.8736\n",
            "Epoch 14/150\n",
            "43/43 [==============================] - 8s 177ms/step - loss: 0.2937 - accuracy: 0.8658 - val_loss: 0.3065 - val_accuracy: 0.8709\n",
            "Epoch 15/150\n",
            "43/43 [==============================] - 8s 177ms/step - loss: 0.3070 - accuracy: 0.8518 - val_loss: 0.3029 - val_accuracy: 0.8709\n",
            "Epoch 16/150\n",
            "43/43 [==============================] - 8s 177ms/step - loss: 0.3191 - accuracy: 0.8549 - val_loss: 0.2933 - val_accuracy: 0.8764\n",
            "Epoch 17/150\n",
            "43/43 [==============================] - 8s 176ms/step - loss: 0.3070 - accuracy: 0.8645 - val_loss: 0.2955 - val_accuracy: 0.8819\n",
            "Epoch 18/150\n",
            "43/43 [==============================] - 8s 176ms/step - loss: 0.3055 - accuracy: 0.8646 - val_loss: 0.2944 - val_accuracy: 0.8819\n",
            "Epoch 19/150\n",
            "43/43 [==============================] - 8s 176ms/step - loss: 0.2753 - accuracy: 0.8912 - val_loss: 0.2927 - val_accuracy: 0.8791\n",
            "Epoch 20/150\n",
            "43/43 [==============================] - 8s 176ms/step - loss: 0.2674 - accuracy: 0.8835 - val_loss: 0.3132 - val_accuracy: 0.8599\n",
            "Epoch 21/150\n",
            "43/43 [==============================] - 8s 175ms/step - loss: 0.3146 - accuracy: 0.8418 - val_loss: 0.3038 - val_accuracy: 0.8736\n",
            "Epoch 22/150\n",
            "43/43 [==============================] - 8s 177ms/step - loss: 0.3061 - accuracy: 0.8639 - val_loss: 0.2960 - val_accuracy: 0.8764\n",
            "Epoch 23/150\n",
            "43/43 [==============================] - 8s 179ms/step - loss: 0.2880 - accuracy: 0.8729 - val_loss: 0.2962 - val_accuracy: 0.8764\n",
            "Epoch 24/150\n",
            "43/43 [==============================] - 8s 176ms/step - loss: 0.2914 - accuracy: 0.8810 - val_loss: 0.2963 - val_accuracy: 0.8681\n",
            "Epoch 25/150\n",
            "43/43 [==============================] - 8s 176ms/step - loss: 0.2614 - accuracy: 0.8877 - val_loss: 0.2905 - val_accuracy: 0.8791\n",
            "Epoch 26/150\n",
            "43/43 [==============================] - 8s 177ms/step - loss: 0.2884 - accuracy: 0.8617 - val_loss: 0.3072 - val_accuracy: 0.8626\n",
            "Epoch 27/150\n",
            "43/43 [==============================] - 8s 176ms/step - loss: 0.2920 - accuracy: 0.8711 - val_loss: 0.2860 - val_accuracy: 0.8819\n",
            "Epoch 28/150\n",
            "43/43 [==============================] - 8s 177ms/step - loss: 0.2941 - accuracy: 0.8728 - val_loss: 0.2923 - val_accuracy: 0.8819\n",
            "Epoch 29/150\n",
            "43/43 [==============================] - 8s 179ms/step - loss: 0.2684 - accuracy: 0.8749 - val_loss: 0.2822 - val_accuracy: 0.8846\n",
            "Epoch 30/150\n",
            "43/43 [==============================] - 8s 177ms/step - loss: 0.2538 - accuracy: 0.8848 - val_loss: 0.2906 - val_accuracy: 0.8764\n",
            "Epoch 31/150\n",
            "43/43 [==============================] - 8s 177ms/step - loss: 0.2615 - accuracy: 0.8761 - val_loss: 0.2805 - val_accuracy: 0.8846\n",
            "Epoch 32/150\n",
            "43/43 [==============================] - 8s 177ms/step - loss: 0.2857 - accuracy: 0.8660 - val_loss: 0.2920 - val_accuracy: 0.8846\n",
            "Epoch 33/150\n",
            "43/43 [==============================] - 8s 178ms/step - loss: 0.2692 - accuracy: 0.8772 - val_loss: 0.2859 - val_accuracy: 0.8874\n",
            "Epoch 34/150\n",
            "43/43 [==============================] - 8s 176ms/step - loss: 0.2725 - accuracy: 0.8770 - val_loss: 0.2925 - val_accuracy: 0.8736\n",
            "Epoch 35/150\n",
            "43/43 [==============================] - 8s 177ms/step - loss: 0.2442 - accuracy: 0.8897 - val_loss: 0.3046 - val_accuracy: 0.8599\n",
            "Epoch 36/150\n",
            "43/43 [==============================] - 8s 177ms/step - loss: 0.2670 - accuracy: 0.8752 - val_loss: 0.2799 - val_accuracy: 0.8846\n",
            "Epoch 37/150\n",
            "43/43 [==============================] - 8s 176ms/step - loss: 0.2643 - accuracy: 0.8839 - val_loss: 0.2893 - val_accuracy: 0.8681\n",
            "Epoch 38/150\n",
            "43/43 [==============================] - 8s 177ms/step - loss: 0.2500 - accuracy: 0.8921 - val_loss: 0.2860 - val_accuracy: 0.8819\n",
            "Epoch 39/150\n",
            "43/43 [==============================] - 8s 176ms/step - loss: 0.2491 - accuracy: 0.8858 - val_loss: 0.2788 - val_accuracy: 0.8791\n",
            "Epoch 40/150\n",
            "43/43 [==============================] - 8s 176ms/step - loss: 0.2603 - accuracy: 0.8836 - val_loss: 0.2820 - val_accuracy: 0.8846\n",
            "Epoch 41/150\n",
            "43/43 [==============================] - 8s 176ms/step - loss: 0.2379 - accuracy: 0.8991 - val_loss: 0.2829 - val_accuracy: 0.8846\n",
            "Epoch 42/150\n",
            "43/43 [==============================] - 8s 178ms/step - loss: 0.2321 - accuracy: 0.8977 - val_loss: 0.2933 - val_accuracy: 0.8736\n",
            "Epoch 43/150\n",
            "43/43 [==============================] - 8s 177ms/step - loss: 0.2353 - accuracy: 0.9023 - val_loss: 0.2793 - val_accuracy: 0.8819\n",
            "Epoch 44/150\n",
            "43/43 [==============================] - 8s 178ms/step - loss: 0.2295 - accuracy: 0.8983 - val_loss: 0.2880 - val_accuracy: 0.8791\n",
            "Epoch 45/150\n",
            "43/43 [==============================] - 8s 178ms/step - loss: 0.2356 - accuracy: 0.8912 - val_loss: 0.2904 - val_accuracy: 0.8791\n",
            "Epoch 46/150\n",
            "43/43 [==============================] - 8s 179ms/step - loss: 0.2354 - accuracy: 0.8925 - val_loss: 0.3020 - val_accuracy: 0.8709\n",
            "Epoch 47/150\n",
            "43/43 [==============================] - 8s 177ms/step - loss: 0.2294 - accuracy: 0.9111 - val_loss: 0.2817 - val_accuracy: 0.8874\n",
            "Epoch 48/150\n",
            "43/43 [==============================] - 8s 178ms/step - loss: 0.2190 - accuracy: 0.9015 - val_loss: 0.2878 - val_accuracy: 0.8819\n",
            "Epoch 49/150\n",
            "43/43 [==============================] - 8s 180ms/step - loss: 0.2313 - accuracy: 0.9057 - val_loss: 0.2945 - val_accuracy: 0.8681\n",
            "Epoch 50/150\n",
            "43/43 [==============================] - 8s 177ms/step - loss: 0.2215 - accuracy: 0.9043 - val_loss: 0.2895 - val_accuracy: 0.8681\n",
            "Epoch 51/150\n",
            "43/43 [==============================] - 8s 176ms/step - loss: 0.2631 - accuracy: 0.8748 - val_loss: 0.3098 - val_accuracy: 0.8654\n",
            "Epoch 52/150\n",
            "43/43 [==============================] - 8s 177ms/step - loss: 0.2380 - accuracy: 0.8900 - val_loss: 0.2897 - val_accuracy: 0.8764\n",
            "Epoch 53/150\n",
            "43/43 [==============================] - 8s 178ms/step - loss: 0.2220 - accuracy: 0.9024 - val_loss: 0.2799 - val_accuracy: 0.8929\n",
            "Epoch 54/150\n",
            "43/43 [==============================] - 8s 178ms/step - loss: 0.2254 - accuracy: 0.8952 - val_loss: 0.2759 - val_accuracy: 0.8901\n",
            "Epoch 55/150\n",
            "43/43 [==============================] - 8s 178ms/step - loss: 0.2318 - accuracy: 0.8994 - val_loss: 0.2851 - val_accuracy: 0.8819\n",
            "Epoch 56/150\n",
            "43/43 [==============================] - 8s 177ms/step - loss: 0.2390 - accuracy: 0.9038 - val_loss: 0.2859 - val_accuracy: 0.8846\n",
            "Epoch 57/150\n",
            "43/43 [==============================] - 8s 177ms/step - loss: 0.2487 - accuracy: 0.8929 - val_loss: 0.2854 - val_accuracy: 0.8764\n",
            "Epoch 58/150\n",
            "43/43 [==============================] - 8s 177ms/step - loss: 0.2326 - accuracy: 0.8918 - val_loss: 0.2802 - val_accuracy: 0.8819\n",
            "Epoch 59/150\n",
            "43/43 [==============================] - 8s 177ms/step - loss: 0.2378 - accuracy: 0.8965 - val_loss: 0.2809 - val_accuracy: 0.8736\n",
            "Epoch 60/150\n",
            "43/43 [==============================] - 8s 176ms/step - loss: 0.2288 - accuracy: 0.9052 - val_loss: 0.2822 - val_accuracy: 0.8901\n",
            "Epoch 61/150\n",
            "43/43 [==============================] - 8s 177ms/step - loss: 0.1951 - accuracy: 0.9202 - val_loss: 0.3044 - val_accuracy: 0.8736\n",
            "Epoch 62/150\n",
            "43/43 [==============================] - 8s 178ms/step - loss: 0.2295 - accuracy: 0.9074 - val_loss: 0.2920 - val_accuracy: 0.8709\n",
            "Epoch 63/150\n",
            "43/43 [==============================] - 8s 177ms/step - loss: 0.2221 - accuracy: 0.9061 - val_loss: 0.2854 - val_accuracy: 0.8764\n",
            "Epoch 64/150\n",
            "43/43 [==============================] - 8s 179ms/step - loss: 0.2015 - accuracy: 0.9036 - val_loss: 0.2857 - val_accuracy: 0.8791\n",
            "Epoch 65/150\n",
            "43/43 [==============================] - 8s 179ms/step - loss: 0.2458 - accuracy: 0.9068 - val_loss: 0.2851 - val_accuracy: 0.8984\n",
            "Epoch 66/150\n",
            "43/43 [==============================] - 8s 178ms/step - loss: 0.2066 - accuracy: 0.9113 - val_loss: 0.2887 - val_accuracy: 0.8791\n",
            "Epoch 67/150\n",
            "43/43 [==============================] - 8s 177ms/step - loss: 0.2239 - accuracy: 0.8988 - val_loss: 0.2870 - val_accuracy: 0.8901\n",
            "Epoch 68/150\n",
            "43/43 [==============================] - 8s 177ms/step - loss: 0.1910 - accuracy: 0.9118 - val_loss: 0.2987 - val_accuracy: 0.8736\n",
            "Epoch 69/150\n",
            "43/43 [==============================] - 8s 177ms/step - loss: 0.2358 - accuracy: 0.8938 - val_loss: 0.2907 - val_accuracy: 0.8791\n",
            "Epoch 70/150\n",
            "43/43 [==============================] - 8s 178ms/step - loss: 0.1836 - accuracy: 0.9184 - val_loss: 0.2789 - val_accuracy: 0.8819\n",
            "Epoch 71/150\n",
            "43/43 [==============================] - 8s 177ms/step - loss: 0.2040 - accuracy: 0.9044 - val_loss: 0.2850 - val_accuracy: 0.8736\n",
            "Epoch 72/150\n",
            "43/43 [==============================] - 8s 176ms/step - loss: 0.1888 - accuracy: 0.9187 - val_loss: 0.2865 - val_accuracy: 0.8791\n",
            "Epoch 73/150\n",
            "43/43 [==============================] - 8s 178ms/step - loss: 0.2172 - accuracy: 0.9083 - val_loss: 0.2804 - val_accuracy: 0.8874\n",
            "Epoch 74/150\n",
            "43/43 [==============================] - 8s 178ms/step - loss: 0.2158 - accuracy: 0.8996 - val_loss: 0.2830 - val_accuracy: 0.8791\n",
            "Epoch 75/150\n",
            "43/43 [==============================] - 8s 178ms/step - loss: 0.2129 - accuracy: 0.9134 - val_loss: 0.2813 - val_accuracy: 0.8819\n",
            "Epoch 76/150\n",
            "43/43 [==============================] - 8s 178ms/step - loss: 0.2075 - accuracy: 0.9017 - val_loss: 0.2943 - val_accuracy: 0.8736\n",
            "Epoch 77/150\n",
            "43/43 [==============================] - 8s 177ms/step - loss: 0.2093 - accuracy: 0.9120 - val_loss: 0.2774 - val_accuracy: 0.8846\n",
            "Epoch 78/150\n",
            "43/43 [==============================] - 8s 177ms/step - loss: 0.2142 - accuracy: 0.8970 - val_loss: 0.2858 - val_accuracy: 0.8874\n",
            "Epoch 79/150\n",
            "43/43 [==============================] - 8s 177ms/step - loss: 0.1937 - accuracy: 0.9260 - val_loss: 0.2803 - val_accuracy: 0.8846\n",
            "Epoch 80/150\n",
            "43/43 [==============================] - 8s 177ms/step - loss: 0.1982 - accuracy: 0.9099 - val_loss: 0.2849 - val_accuracy: 0.8846\n",
            "Epoch 81/150\n",
            "43/43 [==============================] - 8s 178ms/step - loss: 0.2018 - accuracy: 0.9068 - val_loss: 0.2964 - val_accuracy: 0.8764\n",
            "Epoch 82/150\n",
            "43/43 [==============================] - 8s 178ms/step - loss: 0.1924 - accuracy: 0.9123 - val_loss: 0.2885 - val_accuracy: 0.8874\n",
            "Epoch 83/150\n",
            "43/43 [==============================] - 8s 177ms/step - loss: 0.1923 - accuracy: 0.9226 - val_loss: 0.2843 - val_accuracy: 0.8819\n",
            "Epoch 84/150\n",
            "43/43 [==============================] - 8s 179ms/step - loss: 0.1829 - accuracy: 0.9317 - val_loss: 0.2803 - val_accuracy: 0.8874\n",
            "Epoch 85/150\n",
            "43/43 [==============================] - 8s 179ms/step - loss: 0.2143 - accuracy: 0.9069 - val_loss: 0.2819 - val_accuracy: 0.8901\n",
            "Epoch 86/150\n",
            "43/43 [==============================] - 8s 181ms/step - loss: 0.2090 - accuracy: 0.9215 - val_loss: 0.2830 - val_accuracy: 0.8874\n",
            "Epoch 87/150\n",
            "43/43 [==============================] - 8s 179ms/step - loss: 0.2055 - accuracy: 0.9026 - val_loss: 0.3013 - val_accuracy: 0.8736\n",
            "Epoch 88/150\n",
            "43/43 [==============================] - 8s 177ms/step - loss: 0.1856 - accuracy: 0.9247 - val_loss: 0.2898 - val_accuracy: 0.8874\n",
            "Epoch 89/150\n",
            "43/43 [==============================] - 8s 177ms/step - loss: 0.1932 - accuracy: 0.9207 - val_loss: 0.2911 - val_accuracy: 0.8874\n",
            "Epoch 90/150\n",
            "43/43 [==============================] - 8s 178ms/step - loss: 0.1872 - accuracy: 0.9198 - val_loss: 0.2844 - val_accuracy: 0.8874\n",
            "Epoch 91/150\n",
            "43/43 [==============================] - 8s 176ms/step - loss: 0.1771 - accuracy: 0.9343 - val_loss: 0.2919 - val_accuracy: 0.8846\n",
            "Epoch 92/150\n",
            "43/43 [==============================] - 8s 177ms/step - loss: 0.2325 - accuracy: 0.8908 - val_loss: 0.2954 - val_accuracy: 0.8819\n",
            "Epoch 93/150\n",
            "43/43 [==============================] - 8s 177ms/step - loss: 0.1922 - accuracy: 0.9148 - val_loss: 0.2914 - val_accuracy: 0.8791\n",
            "Epoch 94/150\n",
            "43/43 [==============================] - 8s 177ms/step - loss: 0.1888 - accuracy: 0.9246 - val_loss: 0.2901 - val_accuracy: 0.8819\n",
            "Epoch 95/150\n",
            "43/43 [==============================] - 8s 177ms/step - loss: 0.1876 - accuracy: 0.9175 - val_loss: 0.2791 - val_accuracy: 0.8901\n",
            "Epoch 96/150\n",
            "43/43 [==============================] - 8s 178ms/step - loss: 0.1972 - accuracy: 0.9130 - val_loss: 0.2829 - val_accuracy: 0.8956\n",
            "Epoch 97/150\n",
            "43/43 [==============================] - 8s 178ms/step - loss: 0.1828 - accuracy: 0.9319 - val_loss: 0.2786 - val_accuracy: 0.8901\n",
            "Epoch 98/150\n",
            "43/43 [==============================] - 8s 176ms/step - loss: 0.2203 - accuracy: 0.8964 - val_loss: 0.2832 - val_accuracy: 0.8901\n",
            "Epoch 99/150\n",
            "43/43 [==============================] - 8s 178ms/step - loss: 0.1692 - accuracy: 0.9308 - val_loss: 0.2775 - val_accuracy: 0.8819\n",
            "Epoch 100/150\n",
            "43/43 [==============================] - 8s 179ms/step - loss: 0.1746 - accuracy: 0.9167 - val_loss: 0.2947 - val_accuracy: 0.8846\n",
            "Epoch 101/150\n",
            "43/43 [==============================] - 8s 176ms/step - loss: 0.1994 - accuracy: 0.9186 - val_loss: 0.2798 - val_accuracy: 0.8764\n",
            "Epoch 102/150\n",
            "43/43 [==============================] - 8s 178ms/step - loss: 0.1851 - accuracy: 0.9226 - val_loss: 0.2917 - val_accuracy: 0.8819\n",
            "Epoch 103/150\n",
            "43/43 [==============================] - 8s 177ms/step - loss: 0.1667 - accuracy: 0.9292 - val_loss: 0.2862 - val_accuracy: 0.8846\n",
            "Epoch 104/150\n",
            "43/43 [==============================] - 8s 177ms/step - loss: 0.1907 - accuracy: 0.9142 - val_loss: 0.2957 - val_accuracy: 0.8819\n",
            "Epoch 105/150\n",
            "43/43 [==============================] - 8s 178ms/step - loss: 0.1731 - accuracy: 0.9233 - val_loss: 0.2894 - val_accuracy: 0.8874\n",
            "Epoch 106/150\n",
            "43/43 [==============================] - 8s 178ms/step - loss: 0.1885 - accuracy: 0.9197 - val_loss: 0.2861 - val_accuracy: 0.8846\n",
            "Epoch 107/150\n",
            "43/43 [==============================] - 8s 178ms/step - loss: 0.1704 - accuracy: 0.9339 - val_loss: 0.2936 - val_accuracy: 0.8846\n",
            "Epoch 108/150\n",
            "43/43 [==============================] - 8s 178ms/step - loss: 0.1812 - accuracy: 0.9220 - val_loss: 0.2828 - val_accuracy: 0.8901\n",
            "Epoch 109/150\n",
            "43/43 [==============================] - 8s 176ms/step - loss: 0.1883 - accuracy: 0.9094 - val_loss: 0.2742 - val_accuracy: 0.8956\n",
            "Epoch 110/150\n",
            "43/43 [==============================] - 8s 177ms/step - loss: 0.1927 - accuracy: 0.9228 - val_loss: 0.2741 - val_accuracy: 0.8956\n",
            "Epoch 111/150\n",
            "43/43 [==============================] - 8s 177ms/step - loss: 0.1710 - accuracy: 0.9256 - val_loss: 0.2860 - val_accuracy: 0.8929\n",
            "Epoch 112/150\n",
            "43/43 [==============================] - 8s 177ms/step - loss: 0.1878 - accuracy: 0.9124 - val_loss: 0.2871 - val_accuracy: 0.8901\n",
            "Epoch 113/150\n",
            "43/43 [==============================] - 8s 177ms/step - loss: 0.1477 - accuracy: 0.9332 - val_loss: 0.2906 - val_accuracy: 0.8929\n",
            "Epoch 114/150\n",
            "43/43 [==============================] - 8s 177ms/step - loss: 0.1652 - accuracy: 0.9237 - val_loss: 0.2919 - val_accuracy: 0.8929\n",
            "Epoch 115/150\n",
            "43/43 [==============================] - 8s 177ms/step - loss: 0.1948 - accuracy: 0.9156 - val_loss: 0.2988 - val_accuracy: 0.8764\n",
            "Epoch 116/150\n",
            "43/43 [==============================] - 8s 178ms/step - loss: 0.1934 - accuracy: 0.9115 - val_loss: 0.2967 - val_accuracy: 0.8846\n",
            "Epoch 117/150\n",
            "43/43 [==============================] - 8s 179ms/step - loss: 0.1729 - accuracy: 0.9243 - val_loss: 0.2881 - val_accuracy: 0.8929\n",
            "Epoch 118/150\n",
            "43/43 [==============================] - 8s 178ms/step - loss: 0.1600 - accuracy: 0.9368 - val_loss: 0.2963 - val_accuracy: 0.8984\n",
            "Epoch 119/150\n",
            "43/43 [==============================] - 8s 178ms/step - loss: 0.1801 - accuracy: 0.9268 - val_loss: 0.2981 - val_accuracy: 0.8736\n",
            "Epoch 120/150\n",
            "43/43 [==============================] - 8s 178ms/step - loss: 0.1703 - accuracy: 0.9308 - val_loss: 0.3179 - val_accuracy: 0.8654\n",
            "Epoch 121/150\n",
            "43/43 [==============================] - 8s 177ms/step - loss: 0.1750 - accuracy: 0.9265 - val_loss: 0.2877 - val_accuracy: 0.8956\n",
            "Epoch 122/150\n",
            "43/43 [==============================] - 8s 178ms/step - loss: 0.1751 - accuracy: 0.9310 - val_loss: 0.2867 - val_accuracy: 0.8956\n",
            "Epoch 123/150\n",
            "43/43 [==============================] - 8s 177ms/step - loss: 0.1988 - accuracy: 0.9253 - val_loss: 0.3001 - val_accuracy: 0.8901\n",
            "Epoch 124/150\n",
            "43/43 [==============================] - 8s 178ms/step - loss: 0.1929 - accuracy: 0.9198 - val_loss: 0.2823 - val_accuracy: 0.8901\n",
            "Epoch 125/150\n",
            "43/43 [==============================] - 8s 178ms/step - loss: 0.1735 - accuracy: 0.9217 - val_loss: 0.3195 - val_accuracy: 0.8654\n",
            "Epoch 126/150\n",
            "43/43 [==============================] - 8s 180ms/step - loss: 0.1836 - accuracy: 0.9195 - val_loss: 0.2876 - val_accuracy: 0.8984\n",
            "Epoch 127/150\n",
            "43/43 [==============================] - 8s 181ms/step - loss: 0.1752 - accuracy: 0.9273 - val_loss: 0.2941 - val_accuracy: 0.8846\n",
            "Epoch 128/150\n",
            "43/43 [==============================] - 8s 179ms/step - loss: 0.1744 - accuracy: 0.9230 - val_loss: 0.2950 - val_accuracy: 0.8901\n",
            "Epoch 129/150\n",
            "43/43 [==============================] - 8s 176ms/step - loss: 0.1599 - accuracy: 0.9296 - val_loss: 0.2999 - val_accuracy: 0.8874\n",
            "Epoch 130/150\n",
            "43/43 [==============================] - 8s 178ms/step - loss: 0.1855 - accuracy: 0.9203 - val_loss: 0.3076 - val_accuracy: 0.8819\n",
            "Epoch 131/150\n",
            "43/43 [==============================] - 8s 177ms/step - loss: 0.1571 - accuracy: 0.9302 - val_loss: 0.2881 - val_accuracy: 0.9011\n",
            "Epoch 132/150\n",
            "43/43 [==============================] - 8s 178ms/step - loss: 0.1837 - accuracy: 0.9214 - val_loss: 0.2912 - val_accuracy: 0.8901\n",
            "Epoch 133/150\n",
            "43/43 [==============================] - 8s 178ms/step - loss: 0.1527 - accuracy: 0.9369 - val_loss: 0.2855 - val_accuracy: 0.8901\n",
            "Epoch 134/150\n",
            "43/43 [==============================] - 8s 179ms/step - loss: 0.1844 - accuracy: 0.9232 - val_loss: 0.2897 - val_accuracy: 0.8791\n",
            "Epoch 135/150\n",
            "43/43 [==============================] - 8s 178ms/step - loss: 0.1811 - accuracy: 0.9231 - val_loss: 0.3009 - val_accuracy: 0.8874\n",
            "Epoch 136/150\n",
            "43/43 [==============================] - 8s 179ms/step - loss: 0.1615 - accuracy: 0.9357 - val_loss: 0.3045 - val_accuracy: 0.8709\n",
            "Epoch 137/150\n",
            "43/43 [==============================] - 8s 178ms/step - loss: 0.1491 - accuracy: 0.9467 - val_loss: 0.2984 - val_accuracy: 0.8874\n",
            "Epoch 138/150\n",
            "43/43 [==============================] - 8s 180ms/step - loss: 0.1447 - accuracy: 0.9385 - val_loss: 0.2872 - val_accuracy: 0.8929\n",
            "Epoch 139/150\n",
            "43/43 [==============================] - 8s 179ms/step - loss: 0.1728 - accuracy: 0.9287 - val_loss: 0.2971 - val_accuracy: 0.8819\n",
            "Epoch 140/150\n",
            "43/43 [==============================] - 8s 179ms/step - loss: 0.1694 - accuracy: 0.9254 - val_loss: 0.2926 - val_accuracy: 0.9011\n",
            "Epoch 141/150\n",
            "43/43 [==============================] - 8s 178ms/step - loss: 0.1674 - accuracy: 0.9185 - val_loss: 0.2939 - val_accuracy: 0.8901\n",
            "Epoch 142/150\n",
            "43/43 [==============================] - 8s 178ms/step - loss: 0.1508 - accuracy: 0.9422 - val_loss: 0.3098 - val_accuracy: 0.8846\n",
            "Epoch 143/150\n",
            "43/43 [==============================] - 8s 179ms/step - loss: 0.1540 - accuracy: 0.9354 - val_loss: 0.2877 - val_accuracy: 0.8984\n",
            "Epoch 144/150\n",
            "43/43 [==============================] - 8s 178ms/step - loss: 0.1577 - accuracy: 0.9367 - val_loss: 0.2904 - val_accuracy: 0.8901\n",
            "Epoch 145/150\n",
            "43/43 [==============================] - 8s 177ms/step - loss: 0.1547 - accuracy: 0.9404 - val_loss: 0.2858 - val_accuracy: 0.8901\n",
            "Epoch 146/150\n",
            "43/43 [==============================] - 8s 178ms/step - loss: 0.1562 - accuracy: 0.9466 - val_loss: 0.2969 - val_accuracy: 0.8901\n",
            "Epoch 147/150\n",
            "43/43 [==============================] - 8s 179ms/step - loss: 0.1781 - accuracy: 0.9240 - val_loss: 0.2871 - val_accuracy: 0.9011\n",
            "Epoch 148/150\n",
            "43/43 [==============================] - 8s 179ms/step - loss: 0.1424 - accuracy: 0.9400 - val_loss: 0.2930 - val_accuracy: 0.9066\n",
            "Epoch 149/150\n",
            "43/43 [==============================] - 8s 179ms/step - loss: 0.1484 - accuracy: 0.9411 - val_loss: 0.3027 - val_accuracy: 0.8901\n",
            "Epoch 150/150\n",
            "43/43 [==============================] - 8s 177ms/step - loss: 0.1550 - accuracy: 0.9284 - val_loss: 0.2894 - val_accuracy: 0.8956\n"
          ],
          "name": "stdout"
        }
      ]
    },
    {
      "cell_type": "code",
      "metadata": {
        "id": "UV-VPb-lA3jc"
      },
      "source": [
        ""
      ],
      "execution_count": null,
      "outputs": []
    },
    {
      "cell_type": "code",
      "metadata": {
        "id": "P0Fk-e8wA3jd",
        "colab": {
          "base_uri": "https://localhost:8080/",
          "height": 308
        },
        "outputId": "1309833a-cfe2-41bb-b4f8-0ae1d70535e7"
      },
      "source": [
        "f, (ax1, ax2) = plt.subplots(1, 2, figsize=(12, 4))\n",
        "t = f.suptitle('Pre-trained CNN (Transfer Learning) Performance', fontsize=12)\n",
        "f.subplots_adjust(top=0.85, wspace=0.3)\n",
        "\n",
        "epoch_list = list(range(1,151))\n",
        "ax1.plot(epoch_list, history.history['accuracy'], label='Train Accuracy')\n",
        "ax1.plot(epoch_list, history.history['val_accuracy'], label='Validation Accuracy')\n",
        "ax1.set_xticks(np.arange(0, 151, 5))\n",
        "ax1.set_ylabel('Accuracy Value')\n",
        "ax1.set_xlabel('Epoch')\n",
        "ax1.set_title('Accuracy')\n",
        "l1 = ax1.legend(loc=\"best\")\n",
        "\n",
        "ax2.plot(epoch_list, history.history['loss'], label='Train Loss')\n",
        "ax2.plot(epoch_list, history.history['val_loss'], label='Validation Loss')\n",
        "ax2.set_xticks(np.arange(0, 151, 5))\n",
        "ax2.set_ylabel('Loss Value')\n",
        "ax2.set_xlabel('Epoch')\n",
        "ax2.set_title('Loss')\n",
        "l2 = ax2.legend(loc=\"best\")"
      ],
      "execution_count": 22,
      "outputs": [
        {
          "output_type": "display_data",
          "data": {
            "image/png": "[encoded data removed]",
            "text/plain": [
              "<Figure size 864x288 with 2 Axes>"
            ]
          },
          "metadata": {
            "tags": [],
            "needs_background": "light"
          }
        }
      ]
    },
    {
      "cell_type": "code",
      "metadata": {
        "id": "wHLV0XfKA3jd"
      },
      "source": [
        "model.save('2-flower.h5')"
      ],
      "execution_count": 23,
      "outputs": []
    },
    {
      "cell_type": "code",
      "metadata": {
        "id": "eBjX3kbpA3je"
      },
      "source": [
        ""
      ],
      "execution_count": null,
      "outputs": []
    },
    {
      "cell_type": "code",
      "metadata": {
        "id": "3IaOWSbaA3je"
      },
      "source": [
        ""
      ],
      "execution_count": null,
      "outputs": []
    },
    {
      "cell_type": "code",
      "metadata": {
        "id": "Q7SzUeawA3jn"
      },
      "source": [
        ""
      ],
      "execution_count": null,
      "outputs": []
    }
  ]
}